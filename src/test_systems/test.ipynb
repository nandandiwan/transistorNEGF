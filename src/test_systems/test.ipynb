{
 "cells": [
  {
   "cell_type": "code",
   "execution_count": null,
   "id": "09f7dfa3",
   "metadata": {},
   "outputs": [],
   "source": [
    "\n",
    "from hamiltonian import Hamiltonian\n",
    "from rgf import GreensFunction\n",
    "import numpy as np\n",
    "import matplotlib.pyplot as plt"
   ]
  },
  {
   "cell_type": "code",
   "execution_count": null,
   "id": "6cb8f571",
   "metadata": {},
   "outputs": [],
   "source": [
    "\n",
    "ham = Hamiltonian(\"one_d_wire\")\n",
    "gf = GreensFunction(ham)\n",
    "\n",
    "energy = np.linspace(-5,5, 100)\n",
    "dos = [None] * 100\n",
    "\n",
    "for ide, e in enumerate(energy):\n",
    "    dos[ide] = np.sum(gf.compute_density_of_states(E=e))\n",
    "plt.plot(energy, dos)\n",
    "plt.ylabel('DOS')\n",
    "plt.xlabel('Energy')\n",
    "plt.title('Energy vs DOS')\n",
    "\n",
    "plt.show()\n",
    "\n",
    "for ide, e in enumerate(energy):\n",
    "    dos[ide] = gf.compute_transmission(E=e)\n",
    "plt.plot(energy, dos)\n",
    "plt.ylabel('Transmission')\n",
    "plt.xlabel('Energy')\n",
    "plt.title('Transmission vs energy')\n",
    "\n",
    "plt.show()"
   ]
  },
  {
   "cell_type": "code",
   "execution_count": null,
   "id": "ec0e0fe5",
   "metadata": {},
   "outputs": [],
   "source": [
    "ham = Hamiltonian(\"qpc\")\n",
    "ham.Vg = 0.1\n",
    "gf = GreensFunction(ham)\n",
    "H00, H01, H10 = ham.get_H00_H01_H10()\n",
    "\n",
    "print(H00.toarray())\n",
    "print(H01.toarray())\n",
    "\n",
    "for ide, e in enumerate(energy):\n",
    "    dos[ide] = np.sum(gf.compute_density_of_states(E=e))\n",
    "plt.plot(energy, dos)\n",
    "plt.ylabel('DOS')\n",
    "plt.xlabel('Energy')\n",
    "plt.title('Energy vs DOS')\n",
    "\n",
    "plt.show()"
   ]
  },
  {
   "cell_type": "code",
   "execution_count": null,
   "id": "d2122632",
   "metadata": {},
   "outputs": [],
   "source": [
    "import scipy.sparse as sp\n",
    "from utils import smart_inverse\n",
    "\n",
    "E = 100+1e-6j\n",
    "H = ham.create_hamiltonian(blocks=False)\n",
    "n = H.shape[0]\n",
    "\n",
    "sigma_L = gf.lead_self_energy.self_energy(\"left\", E, \"sancho_rubio\")\n",
    "sigma_R = gf.lead_self_energy.self_energy(\"right\", E, \"sancho_rubio\")\n",
    "\n",
    "\n",
    "block_size = sigma_L.shape[0]\n",
    "\n",
    "Sigma_L_full = sp.lil_matrix((n, n), dtype=complex)\n",
    "Sigma_R_full = sp.lil_matrix((n, n), dtype=complex)\n",
    "Sigma_L_full[:block_size, :block_size] = sigma_L\n",
    "Sigma_R_full[-block_size:, -block_size:] = sigma_R\n",
    "Sigma_L_full = Sigma_L_full.tocsc()\n",
    "Sigma_R_full = Sigma_R_full.tocsc()\n",
    "\n",
    "H_eff = H + Sigma_L_full + Sigma_R_full\n",
    "A = E * sp.identity(n, dtype=complex, format='csc') - H_eff\n",
    "\n",
    "# Use smart_inverse for efficient computation\n",
    "G_R = smart_inverse(A)\n",
    "\n",
    "if not sp.issparse(G_R):\n",
    "    G_R = sp.csc_matrix(G_R)\n",
    "\n",
    "Gamma_L = 1j * (Sigma_L_full - Sigma_L_full.conj().T)\n",
    "Gamma_R = 1j * (Sigma_R_full - Sigma_R_full.conj().T)\n",
    "print(Gamma_L.toarray())\n",
    "\n",
    "T=(Gamma_L @ G_R @ Gamma_R @ G_R.conj().T)\n",
    "print(T.toarray())\n",
    "\n"
   ]
  },
  {
   "cell_type": "code",
   "execution_count": null,
   "id": "ffe331a1",
   "metadata": {},
   "outputs": [],
   "source": [
    "A,B,C=gf.compute_central_greens_function(0, compute_lesser=False)\n",
    "print(A)"
   ]
  },
  {
   "cell_type": "code",
   "execution_count": null,
   "id": "54175a99",
   "metadata": {},
   "outputs": [],
   "source": [
    "# Debug: Compare device boundary blocks and lead Hamiltonian\n",
    "ham = Hamiltonian(\"qpc\")\n",
    "ham.W = 30\n",
    "ham.L = 100\n",
    "ham.t = 1.0\n",
    "ham.o = 0.0\n",
    "ham.Vg = 1.0\n",
    "\n",
    "H = ham.create_hamiltonian(blocks=False).toarray()\n",
    "print(\"Device first row block:\")\n",
    "print(H[:ham.W, :ham.W])\n",
    "print(\"Device last row block:\")\n",
    "print(H[-ham.W:, -ham.W:])\n",
    "\n",
    "H00, H01, H10 = ham.get_H00_H01_H10()\n",
    "print(\"Lead H00:\")\n",
    "print(H00.toarray())\n",
    "print(\"Lead H01:\")\n",
    "print(H01.toarray())"
   ]
  },
  {
   "cell_type": "code",
   "execution_count": null,
   "id": "5d07028d",
   "metadata": {},
   "outputs": [],
   "source": [
    "# Sweep Fermi energy and plot transmission for QPC\n",
    "ham = Hamiltonian(\"qpc\")\n",
    "\n",
    "ham.W = 10\n",
    "ham.L = 30\n",
    "ham.t = 1.0\n",
    "ham.o = 0.0\n",
    "ham.Vg = .1  # Moderate barrier\n",
    "\n",
    "gf = GreensFunction(ham)\n",
    "\n",
    "energies = np.linspace(-2, 2, 100)\n",
    "transmission = []\n",
    "for E in energies:\n",
    "    transmission.append(gf.compute_transmission(E=E))\n",
    "\n",
    "plt.plot(energies, transmission)\n",
    "plt.xlabel('Energy')\n",
    "plt.ylabel('Transmission')\n",
    "plt.title('Transmission vs Energy for QPC')\n",
    "plt.show()"
   ]
  },
  {
   "cell_type": "code",
   "execution_count": null,
   "id": "ad052ce7",
   "metadata": {},
   "outputs": [],
   "source": []
  }
 ],
 "metadata": {
  "kernelspec": {
   "display_name": ".venv",
   "language": "python",
   "name": "python3"
  },
  "language_info": {
   "codemirror_mode": {
    "name": "ipython",
    "version": 3
   },
   "file_extension": ".py",
   "mimetype": "text/x-python",
   "name": "python",
   "nbconvert_exporter": "python",
   "pygments_lexer": "ipython3",
   "version": "3.11.5"
  }
 },
 "nbformat": 4,
 "nbformat_minor": 5
}
