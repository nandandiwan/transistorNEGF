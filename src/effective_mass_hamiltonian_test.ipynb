{
 "cells": [
  {
   "cell_type": "code",
   "execution_count": 1,
   "id": "2b02a954",
   "metadata": {},
   "outputs": [],
   "source": [
    "from tight_binding.finite_tight_binding import TightBindingHamiltonian\n",
    "import numpy as np\n",
    "import scipy.constants as spc\n",
    "\n"
   ]
  },
  {
   "cell_type": "code",
   "execution_count": 2,
   "id": "cf9c48ee",
   "metadata": {},
   "outputs": [
    {
     "name": "stdout",
     "output_type": "stream",
     "text": [
      "‣ Const‐mass Frobenius error ‖H_eff − H_reg‖  = 0.000e+00\n",
      "‣ First three numeric E_n (eV): [0.05612276 0.22447734 0.5050226 ]\n",
      "‣ Analytic   E_1 (eV):          0.056123904791772025\n",
      "‣ Hermiticity check ‖H − H†‖        = 3.402e-18\n",
      "‣ Variable‑mass well: first three E_n (eV): [-0.50293738 -0.18913334  0.80787206]\n"
     ]
    }
   ],
   "source": [
    "\"\"\"\n",
    "quick_effective_mass_tests.py\n",
    "Small consistency checks for your 1‑D effective‑mass Hamiltonians.\n",
    "\"\"\"\n",
    "\n",
    "import numpy as np\n",
    "import scipy.constants as spc\n",
    "import scipy.linalg as la\n",
    "\n",
    "hbar = spc.hbar      \n",
    "\n",
    "def create_effective_mass_hamiltonian(m, a):\n",
    "    minv      = 1.0 / m\n",
    "    dminvdz   = np.gradient(m, a)\n",
    "\n",
    "    dAdz   = (np.diag(dminvdz[1:],  +1) - np.diag(dminvdz[:-1], -1)) / (2*a)\n",
    "    d2Adz2 = (np.diag(minv[1:],   +1) + np.diag(minv[:-1],  -1)\n",
    "              - 2*np.diag(minv)) / (a**2)\n",
    "    return -(hbar**2 / 2) * (dAdz + d2Adz2)\n",
    "\n",
    "\n",
    "def create_regular_hamiltonian(m, a, N):\n",
    "    d2Adz2 = (np.eye(N, k=+1) + np.eye(N, k=-1) - 2*np.eye(N)) / a**2\n",
    "    return -(hbar**2 / (2*m)) * d2Adz2\n",
    "\n",
    "\n",
    "def run_tests():\n",
    "    N  = 200                 \n",
    "    L  = 10e-9               \n",
    "    a  = L / (N + 1)         \n",
    "    m0 = 0.067 * spc.m_e     \n",
    "\n",
    "    \n",
    "    m_const = np.full(N, m0)\n",
    "    H_eff_const = create_effective_mass_hamiltonian(m_const, a)\n",
    "    H_reg_const = create_regular_hamiltonian(m0, a, N)\n",
    "\n",
    "    frob_error = np.linalg.norm(H_eff_const - H_reg_const)\n",
    "    print(f\"‣ Const‐mass Frobenius error ‖H_eff − H_reg‖  = {frob_error:.3e}\")\n",
    "\n",
    "    # compare eigen values\n",
    "    evals_const, _ = la.eigh(H_reg_const)\n",
    "    evals_const_ev = evals_const / spc.electron_volt\n",
    "\n",
    "    E1_exact = (hbar**2 * np.pi**2) / (2*m0*L**2) / spc.electron_volt\n",
    "    print(\"‣ First three numeric E_n (eV):\", evals_const_ev[:3])\n",
    "    print(\"‣ Analytic   E_1 (eV):         \", E1_exact)\n",
    "\n",
    "    \n",
    "    z = np.linspace(a, L-a, N)            \n",
    "    m_profile = m0 * (1 + 0.20*np.sin(2*np.pi*z/L))   \n",
    "    H_eff_var = create_effective_mass_hamiltonian(m_profile, a)\n",
    "\n",
    "    \n",
    "    herm_error = np.linalg.norm(H_eff_var - H_eff_var.T.conj())\n",
    "    evals_var, _ = la.eigh(H_eff_var)\n",
    "    print(f\"‣ Hermiticity check ‖H − H†‖        = {herm_error:.3e}\")\n",
    "    print(\"‣ Variable‑mass well: first three E_n (eV):\",\n",
    "          evals_var[:3] / spc.electron_volt)\n",
    "\n",
    "\n",
    "if __name__ == \"__main__\":\n",
    "    run_tests()\n"
   ]
  }
 ],
 "metadata": {
  "kernelspec": {
   "display_name": ".venv",
   "language": "python",
   "name": "python3"
  },
  "language_info": {
   "codemirror_mode": {
    "name": "ipython",
    "version": 3
   },
   "file_extension": ".py",
   "mimetype": "text/x-python",
   "name": "python",
   "nbconvert_exporter": "python",
   "pygments_lexer": "ipython3",
   "version": "3.11.5"
  }
 },
 "nbformat": 4,
 "nbformat_minor": 5
}
