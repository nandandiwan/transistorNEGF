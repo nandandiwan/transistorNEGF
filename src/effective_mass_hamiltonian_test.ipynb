{
 "cells": [
  {
   "cell_type": "code",
   "execution_count": 1,
   "id": "2b02a954",
   "metadata": {},
   "outputs": [],
   "source": [
    "from tight_binding.finite_tight_binding import TightBindingHamiltonian\n",
    "import numpy as np\n",
    "import scipy.constants as spc\n",
    "import scipy.linalg as la\n",
    "\n"
   ]
  },
  {
   "cell_type": "code",
   "execution_count": 2,
   "id": "cf9c48ee",
   "metadata": {},
   "outputs": [
    {
     "name": "stdout",
     "output_type": "stream",
     "text": [
      "‣ Const‐mass Frobenius error ‖H_eff − H_reg‖  = 0.000e+00\n",
      "‣ First three numeric E_n (eV): [0.05612276 0.22447734 0.5050226 ]\n",
      "‣ Analytic   E_1 (eV):          0.056123904791772025\n",
      "‣ Hermiticity check ‖H − H†‖        = 3.402e-18\n",
      "‣ Variable‑mass well: first three E_n (eV): [-0.50293738 -0.18913334  0.80787206]\n"
     ]
    }
   ],
   "source": [
    "hbar = spc.hbar      \n",
    "\n",
    "def create_effective_mass_hamiltonian(m, a):\n",
    "    minv      = 1.0 / m\n",
    "    dminvdz   = np.gradient(m, a)\n",
    "\n",
    "    dAdz   = (np.diag(dminvdz[1:],  +1) - np.diag(dminvdz[:-1], -1)) / (2*a)\n",
    "    d2Adz2 = (np.diag(minv[1:],   +1) + np.diag(minv[:-1],  -1)\n",
    "              - 2*np.diag(minv)) / (a**2)\n",
    "    return -(hbar**2 / 2) * (dAdz + d2Adz2)\n",
    "\n",
    "\n",
    "def create_regular_hamiltonian(m, a, N):\n",
    "    d2Adz2 = (np.eye(N, k=+1) + np.eye(N, k=-1) - 2*np.eye(N)) / a**2\n",
    "    return -(hbar**2 / (2*m)) * d2Adz2\n",
    "\n",
    "\n",
    "def run_tests():\n",
    "    N  = 200                 \n",
    "    L  = 10e-9               \n",
    "    a  = L / (N + 1)         \n",
    "    m0 = 0.067 * spc.m_e     \n",
    "\n",
    "    \n",
    "    m_const = np.full(N, m0)\n",
    "    H_eff_const = create_effective_mass_hamiltonian(m_const, a)\n",
    "    H_reg_const = create_regular_hamiltonian(m0, a, N)\n",
    "\n",
    "    frob_error = np.linalg.norm(H_eff_const - H_reg_const)\n",
    "    print(f\"‣ Const‐mass Frobenius error ‖H_eff − H_reg‖  = {frob_error:.3e}\")\n",
    "\n",
    "    # compare eigen values\n",
    "    evals_const, _ = la.eigh(H_reg_const)\n",
    "    evals_const_ev = evals_const / spc.electron_volt\n",
    "\n",
    "    E1_exact = (hbar**2 * np.pi**2) / (2*m0*L**2) / spc.electron_volt\n",
    "    print(\"‣ First three numeric E_n (eV):\", evals_const_ev[:3])\n",
    "    print(\"‣ Analytic   E_1 (eV):         \", E1_exact)\n",
    "\n",
    "    \n",
    "    z = np.linspace(a, L-a, N)            \n",
    "    m_profile = m0 * (1 + 0.20*np.sin(2*np.pi*z/L))   \n",
    "    H_eff_var = create_effective_mass_hamiltonian(m_profile, a)\n",
    "\n",
    "    \n",
    "    herm_error = np.linalg.norm(H_eff_var - H_eff_var.T.conj())\n",
    "    evals_var, _ = la.eigh(H_eff_var)\n",
    "    print(f\"‣ Hermiticity check ‖H − H†‖        = {herm_error:.3e}\")\n",
    "    print(\"‣ Variable‑mass well: first three E_n (eV):\",\n",
    "          evals_var[:3] / spc.electron_volt)\n",
    "\n",
    "\n",
    "if __name__ == \"__main__\":\n",
    "    run_tests()\n"
   ]
  },
  {
   "cell_type": "code",
   "execution_count": null,
   "id": "9bf4c2dd",
   "metadata": {},
   "outputs": [
    {
     "name": "stdout",
     "output_type": "stream",
     "text": [
      "(400, 80)\n",
      "(400, 160)\n",
      "(400, 240)\n",
      "(400, 320)\n"
     ]
    },
    {
     "ename": "KeyboardInterrupt",
     "evalue": "",
     "output_type": "error",
     "traceback": [
      "\u001b[31m---------------------------------------------------------------------------\u001b[39m",
      "\u001b[31mKeyboardInterrupt\u001b[39m                         Traceback (most recent call last)",
      "\u001b[36mCell\u001b[39m\u001b[36m \u001b[39m\u001b[32mIn[3]\u001b[39m\u001b[32m, line 7\u001b[39m\n\u001b[32m      5\u001b[39m TB = TightBindingHamiltonian(i)\n\u001b[32m      6\u001b[39m TB.setLinearPotential(\u001b[32m0\u001b[39m)\n\u001b[32m----> \u001b[39m\u001b[32m7\u001b[39m M1 = \u001b[43mTB\u001b[49m\u001b[43m.\u001b[49m\u001b[43meffectiveMass\u001b[49m\u001b[43m(\u001b[49m\u001b[43m)\u001b[49m\n\u001b[32m      8\u001b[39m effectivemasses[i] = M1\n",
      "\u001b[36mFile \u001b[39m\u001b[32m~/Desktop/NEGF_sim/NEGF_sim_git/src/tight_binding/finite_tight_binding.py:187\u001b[39m, in \u001b[36mTightBindingHamiltonian.effectiveMass\u001b[39m\u001b[34m(self, Nk, store_all, n_jobs, a, res_factor)\u001b[39m\n\u001b[32m    185\u001b[39m n_jobs = n_jobs \u001b[38;5;129;01mor\u001b[39;00m cpu_count()\n\u001b[32m    186\u001b[39m \u001b[38;5;28;01mwith\u001b[39;00m Pool(processes=n_jobs) \u001b[38;5;28;01mas\u001b[39;00m pool:\n\u001b[32m--> \u001b[39m\u001b[32m187\u001b[39m     results = \u001b[43mpool\u001b[49m\u001b[43m.\u001b[49m\u001b[43mmap\u001b[49m\u001b[43m(\u001b[49m\u001b[38;5;28;43mself\u001b[39;49m\u001b[43m.\u001b[49m\u001b[43meval_k\u001b[49m\u001b[43m,\u001b[49m\u001b[43m \u001b[49m\u001b[43mklist\u001b[49m\u001b[43m,\u001b[49m\u001b[43m \u001b[49m\u001b[43mchunksize\u001b[49m\u001b[43m=\u001b[49m\u001b[38;5;28;43mlen\u001b[39;49m\u001b[43m(\u001b[49m\u001b[43mklist\u001b[49m\u001b[43m)\u001b[49m\u001b[43m/\u001b[49m\u001b[43m/\u001b[49m\u001b[43mn_jobs\u001b[49m\u001b[43m)\u001b[49m\n\u001b[32m    189\u001b[39m \u001b[38;5;66;03m# collect extrema\u001b[39;00m\n\u001b[32m    190\u001b[39m vbm_E, cbm_E = -np.inf, np.inf\n",
      "\u001b[36mFile \u001b[39m\u001b[32m/opt/tools/anaconda3/lib/python3.11/multiprocessing/pool.py:367\u001b[39m, in \u001b[36mPool.map\u001b[39m\u001b[34m(self, func, iterable, chunksize)\u001b[39m\n\u001b[32m    362\u001b[39m \u001b[38;5;28;01mdef\u001b[39;00m\u001b[38;5;250m \u001b[39m\u001b[34mmap\u001b[39m(\u001b[38;5;28mself\u001b[39m, func, iterable, chunksize=\u001b[38;5;28;01mNone\u001b[39;00m):\n\u001b[32m    363\u001b[39m \u001b[38;5;250m    \u001b[39m\u001b[33;03m'''\u001b[39;00m\n\u001b[32m    364\u001b[39m \u001b[33;03m    Apply `func` to each element in `iterable`, collecting the results\u001b[39;00m\n\u001b[32m    365\u001b[39m \u001b[33;03m    in a list that is returned.\u001b[39;00m\n\u001b[32m    366\u001b[39m \u001b[33;03m    '''\u001b[39;00m\n\u001b[32m--> \u001b[39m\u001b[32m367\u001b[39m     \u001b[38;5;28;01mreturn\u001b[39;00m \u001b[38;5;28;43mself\u001b[39;49m\u001b[43m.\u001b[49m\u001b[43m_map_async\u001b[49m\u001b[43m(\u001b[49m\u001b[43mfunc\u001b[49m\u001b[43m,\u001b[49m\u001b[43m \u001b[49m\u001b[43miterable\u001b[49m\u001b[43m,\u001b[49m\u001b[43m \u001b[49m\u001b[43mmapstar\u001b[49m\u001b[43m,\u001b[49m\u001b[43m \u001b[49m\u001b[43mchunksize\u001b[49m\u001b[43m)\u001b[49m\u001b[43m.\u001b[49m\u001b[43mget\u001b[49m\u001b[43m(\u001b[49m\u001b[43m)\u001b[49m\n",
      "\u001b[36mFile \u001b[39m\u001b[32m/opt/tools/anaconda3/lib/python3.11/multiprocessing/pool.py:768\u001b[39m, in \u001b[36mApplyResult.get\u001b[39m\u001b[34m(self, timeout)\u001b[39m\n\u001b[32m    767\u001b[39m \u001b[38;5;28;01mdef\u001b[39;00m\u001b[38;5;250m \u001b[39m\u001b[34mget\u001b[39m(\u001b[38;5;28mself\u001b[39m, timeout=\u001b[38;5;28;01mNone\u001b[39;00m):\n\u001b[32m--> \u001b[39m\u001b[32m768\u001b[39m     \u001b[38;5;28;43mself\u001b[39;49m\u001b[43m.\u001b[49m\u001b[43mwait\u001b[49m\u001b[43m(\u001b[49m\u001b[43mtimeout\u001b[49m\u001b[43m)\u001b[49m\n\u001b[32m    769\u001b[39m     \u001b[38;5;28;01mif\u001b[39;00m \u001b[38;5;129;01mnot\u001b[39;00m \u001b[38;5;28mself\u001b[39m.ready():\n\u001b[32m    770\u001b[39m         \u001b[38;5;28;01mraise\u001b[39;00m \u001b[38;5;167;01mTimeoutError\u001b[39;00m\n",
      "\u001b[36mFile \u001b[39m\u001b[32m/opt/tools/anaconda3/lib/python3.11/multiprocessing/pool.py:765\u001b[39m, in \u001b[36mApplyResult.wait\u001b[39m\u001b[34m(self, timeout)\u001b[39m\n\u001b[32m    764\u001b[39m \u001b[38;5;28;01mdef\u001b[39;00m\u001b[38;5;250m \u001b[39m\u001b[34mwait\u001b[39m(\u001b[38;5;28mself\u001b[39m, timeout=\u001b[38;5;28;01mNone\u001b[39;00m):\n\u001b[32m--> \u001b[39m\u001b[32m765\u001b[39m     \u001b[38;5;28;43mself\u001b[39;49m\u001b[43m.\u001b[49m\u001b[43m_event\u001b[49m\u001b[43m.\u001b[49m\u001b[43mwait\u001b[49m\u001b[43m(\u001b[49m\u001b[43mtimeout\u001b[49m\u001b[43m)\u001b[49m\n",
      "\u001b[36mFile \u001b[39m\u001b[32m/opt/tools/anaconda3/lib/python3.11/threading.py:622\u001b[39m, in \u001b[36mEvent.wait\u001b[39m\u001b[34m(self, timeout)\u001b[39m\n\u001b[32m    620\u001b[39m signaled = \u001b[38;5;28mself\u001b[39m._flag\n\u001b[32m    621\u001b[39m \u001b[38;5;28;01mif\u001b[39;00m \u001b[38;5;129;01mnot\u001b[39;00m signaled:\n\u001b[32m--> \u001b[39m\u001b[32m622\u001b[39m     signaled = \u001b[38;5;28;43mself\u001b[39;49m\u001b[43m.\u001b[49m\u001b[43m_cond\u001b[49m\u001b[43m.\u001b[49m\u001b[43mwait\u001b[49m\u001b[43m(\u001b[49m\u001b[43mtimeout\u001b[49m\u001b[43m)\u001b[49m\n\u001b[32m    623\u001b[39m \u001b[38;5;28;01mreturn\u001b[39;00m signaled\n",
      "\u001b[36mFile \u001b[39m\u001b[32m/opt/tools/anaconda3/lib/python3.11/threading.py:320\u001b[39m, in \u001b[36mCondition.wait\u001b[39m\u001b[34m(self, timeout)\u001b[39m\n\u001b[32m    318\u001b[39m \u001b[38;5;28;01mtry\u001b[39;00m:    \u001b[38;5;66;03m# restore state no matter what (e.g., KeyboardInterrupt)\u001b[39;00m\n\u001b[32m    319\u001b[39m     \u001b[38;5;28;01mif\u001b[39;00m timeout \u001b[38;5;129;01mis\u001b[39;00m \u001b[38;5;28;01mNone\u001b[39;00m:\n\u001b[32m--> \u001b[39m\u001b[32m320\u001b[39m         \u001b[43mwaiter\u001b[49m\u001b[43m.\u001b[49m\u001b[43macquire\u001b[49m\u001b[43m(\u001b[49m\u001b[43m)\u001b[49m\n\u001b[32m    321\u001b[39m         gotit = \u001b[38;5;28;01mTrue\u001b[39;00m\n\u001b[32m    322\u001b[39m     \u001b[38;5;28;01melse\u001b[39;00m:\n",
      "\u001b[31mKeyboardInterrupt\u001b[39m: "
     ]
    }
   ],
   "source": [
    "from tight_binding.finite_tight_binding import TightBindingHamiltonian\n",
    "effectivemasses = [None] * 8\n",
    "# error w effectiev mass see finite silicon notebook \n",
    "for i in range(1, 9):\n",
    "    TB = TightBindingHamiltonian(i)\n",
    "    TB.setLinearPotential(0)\n",
    "    M1 = TB.effectiveMass()\n",
    "    effectivemasses[i] = M1"
   ]
  },
  {
   "cell_type": "code",
   "execution_count": 4,
   "id": "cac8d0b3",
   "metadata": {},
   "outputs": [
    {
     "name": "stdout",
     "output_type": "stream",
     "text": [
      "[None, array([[ 2.38154642, -0.31515648],\n",
      "       [-0.31515648,  1.43214788]]), array([[-24.64144087,   6.74169601],\n",
      "       [  6.74169601,  -2.45898636]]), array([[-0.51423905, -1.21672644],\n",
      "       [-1.21672644, -0.51423905]]), array([[ 0.13672979,  0.29247898],\n",
      "       [ 0.29247898, -0.17148533]]), None, None, None]\n"
     ]
    }
   ],
   "source": [
    "print(effectivemasses)"
   ]
  },
  {
   "cell_type": "code",
   "execution_count": null,
   "id": "6e1f54a3",
   "metadata": {},
   "outputs": [],
   "source": []
  }
 ],
 "metadata": {
  "kernelspec": {
   "display_name": ".venv",
   "language": "python",
   "name": "python3"
  },
  "language_info": {
   "codemirror_mode": {
    "name": "ipython",
    "version": 3
   },
   "file_extension": ".py",
   "mimetype": "text/x-python",
   "name": "python",
   "nbconvert_exporter": "python",
   "pygments_lexer": "ipython3",
   "version": "3.11.5"
  }
 },
 "nbformat": 4,
 "nbformat_minor": 5
}
