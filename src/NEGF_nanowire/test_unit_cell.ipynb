{
 "cells": [
  {
   "cell_type": "code",
   "execution_count": 1,
   "id": "110b4896",
   "metadata": {},
   "outputs": [],
   "source": [
    "from NEGF_device_generation import UnitCell\n",
    "from device import Device\n",
    "from device_hamiltonian import Hamiltonian\n",
    "from lead_self_energy import LeadSelfEnergy"
   ]
  },
  {
   "cell_type": "code",
   "execution_count": 2,
   "id": "391ee3ce",
   "metadata": {},
   "outputs": [
    {
     "name": "stdout",
     "output_type": "stream",
     "text": [
      "16\n",
      "[Atom(0, 0.25, 0.25), Atom(0.0, 0.75, 0.75), Atom(0.0, 1.25, 0.25), Atom(0.0, 1.75, 0.75), Atom(0.25, 0.0, 0.0), Atom(0.25, 0.5, 0.5), Atom(0.25, 1.0, 0.0), Atom(0.25, 1.5, 0.5), Atom(0.5, 0.25, 0.75), Atom(0.5, 0.75, 0.25), Atom(0.5, 1.25, 0.75), Atom(0.5, 1.75, 0.25), Atom(0.75, 0.0, 0.5), Atom(0.75, 0.5, 0.0), Atom(0.75, 1.0, 0.5), Atom(0.75, 1.5, 0.0)]\n"
     ]
    }
   ],
   "source": [
    "unitCell = UnitCell(0.5431 * 1e-9, 0.5431 * 2e-9, 0.5431 * 1e-9, orientation=(1,2,3,0))\n",
    "print(len(unitCell.ATOM_POSITIONS))\n",
    "\n",
    "print(unitCell.ATOM_POSITIONS)\n"
   ]
  },
  {
   "cell_type": "code",
   "execution_count": 3,
   "id": "ee938192",
   "metadata": {},
   "outputs": [
    {
     "data": {
      "text/plain": [
       "96"
      ]
     },
     "execution_count": 3,
     "metadata": {},
     "output_type": "execute_result"
    }
   ],
   "source": [
    "dev = Device(0.5431 * 1e-9 * 3, 0.5431 * 1e-9 * 2,0.5431 * 1e-9 * 2)\n",
    "\n",
    "len(dev.unitCell.ATOM_POSITIONS)"
   ]
  },
  {
   "cell_type": "code",
   "execution_count": 4,
   "id": "e4ac061c",
   "metadata": {},
   "outputs": [],
   "source": [
    "ham = Hamiltonian(dev) "
   ]
  },
  {
   "cell_type": "code",
   "execution_count": 5,
   "id": "bb37c887",
   "metadata": {},
   "outputs": [
    {
     "name": "stdout",
     "output_type": "stream",
     "text": [
      "[<Compressed Sparse Column sparse matrix of dtype 'complex128'\n",
      "\twith 110 stored elements and shape (80, 80)>, <Compressed Sparse Column sparse matrix of dtype 'complex128'\n",
      "\twith 86 stored elements and shape (80, 80)>, <Compressed Sparse Column sparse matrix of dtype 'complex128'\n",
      "\twith 116 stored elements and shape (80, 80)>, <Compressed Sparse Column sparse matrix of dtype 'complex128'\n",
      "\twith 88 stored elements and shape (80, 80)>, <Compressed Sparse Column sparse matrix of dtype 'complex128'\n",
      "\twith 110 stored elements and shape (80, 80)>, <Compressed Sparse Column sparse matrix of dtype 'complex128'\n",
      "\twith 86 stored elements and shape (80, 80)>, <Compressed Sparse Column sparse matrix of dtype 'complex128'\n",
      "\twith 116 stored elements and shape (80, 80)>, <Compressed Sparse Column sparse matrix of dtype 'complex128'\n",
      "\twith 88 stored elements and shape (80, 80)>, <Compressed Sparse Column sparse matrix of dtype 'complex128'\n",
      "\twith 110 stored elements and shape (80, 80)>, <Compressed Sparse Column sparse matrix of dtype 'complex128'\n",
      "\twith 86 stored elements and shape (80, 80)>, <Compressed Sparse Column sparse matrix of dtype 'complex128'\n",
      "\twith 116 stored elements and shape (80, 80)>, <Compressed Sparse Column sparse matrix of dtype 'complex128'\n",
      "\twith 88 stored elements and shape (80, 80)>]\n"
     ]
    }
   ],
   "source": [
    "diag, offdiag = ham.create_sparse_channel_hamlitonian(blocks=True)\n",
    "print(diag)"
   ]
  },
  {
   "cell_type": "code",
   "execution_count": 6,
   "id": "b7e087e7",
   "metadata": {},
   "outputs": [
    {
     "data": {
      "text/plain": [
       "array([[ 6.30921521-9.91382106e-06j, -5.14439069+7.72340114e-06j,\n",
       "         5.94400485-7.98907684e-06j, ...,  0.13510918+2.55233158e-07j,\n",
       "         0.33695759+7.35941517e-07j,  0.23071753+1.67056334e-07j],\n",
       "       [-5.14439069+7.72340114e-06j,  3.54664848-6.44503061e-06j,\n",
       "        -4.89515903+6.20822252e-06j, ..., -0.08336917-6.39952980e-08j,\n",
       "        -0.16815523-1.84082807e-07j, -0.16194701-4.33678760e-08j],\n",
       "       [ 5.94400485-7.98907684e-06j, -4.89515903+6.20822252e-06j,\n",
       "         4.9324458 -6.66647766e-06j, ...,  0.09970886+1.32033296e-07j,\n",
       "         0.26001509+4.10667972e-07j,  0.17982017+6.75648500e-08j],\n",
       "       ...,\n",
       "       [ 0.13510918+2.55233158e-07j, -0.08336917-6.39952980e-08j,\n",
       "         0.09970886+1.32033296e-07j, ..., -1.59137092-1.78637147e-06j,\n",
       "        -0.26424474-1.34559895e-06j,  0.83147728-4.10086429e-07j],\n",
       "       [ 0.33695759+7.35941517e-07j, -0.16815523-1.84082807e-07j,\n",
       "         0.26001509+4.10667972e-07j, ..., -0.26424474-1.34559895e-06j,\n",
       "        -3.95275064-5.11329216e-06j, -0.86875817-8.51699652e-07j],\n",
       "       [ 0.23071753+1.67056334e-07j, -0.16194701-4.33678760e-08j,\n",
       "         0.17982017+6.75648500e-08j, ...,  0.83147728-4.10086429e-07j,\n",
       "        -0.86875817-8.51699652e-07j, -0.3595739 -2.28963008e-06j]])"
      ]
     },
     "execution_count": 6,
     "metadata": {},
     "output_type": "execute_result"
    }
   ],
   "source": [
    "lse = LeadSelfEnergy(dev, ham)\n",
    "lse.self_energy(\"right\", 0, method=\"sancho_rubio\")\n"
   ]
  },
  {
   "cell_type": "code",
   "execution_count": 15,
   "id": "19aa4dfa",
   "metadata": {},
   "outputs": [
    {
     "data": {
      "text/plain": [
       "np.float64(0.00028429535778517063)"
      ]
     },
     "execution_count": 15,
     "metadata": {},
     "output_type": "execute_result"
    }
   ],
   "source": [
    "from rgf import GreensFunction\n",
    "\n",
    "GF = GreensFunction(dev, ham, self_energy_method=\"sancho_rubio\")\n",
    "\n",
    "sum(GF.compute_density_of_states(.7))"
   ]
  },
  {
   "cell_type": "code",
   "execution_count": null,
   "id": "0ba00dd3",
   "metadata": {},
   "outputs": [],
   "source": []
  },
  {
   "cell_type": "code",
   "execution_count": null,
   "id": "0325f8a8",
   "metadata": {},
   "outputs": [],
   "source": []
  }
 ],
 "metadata": {
  "kernelspec": {
   "display_name": ".venv",
   "language": "python",
   "name": "python3"
  },
  "language_info": {
   "codemirror_mode": {
    "name": "ipython",
    "version": 3
   },
   "file_extension": ".py",
   "mimetype": "text/x-python",
   "name": "python",
   "nbconvert_exporter": "python",
   "pygments_lexer": "ipython3",
   "version": "3.11.5"
  }
 },
 "nbformat": 4,
 "nbformat_minor": 5
}
