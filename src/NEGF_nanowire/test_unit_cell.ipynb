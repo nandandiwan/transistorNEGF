{
 "cells": [
  {
   "cell_type": "code",
   "execution_count": 1,
   "id": "110b4896",
   "metadata": {},
   "outputs": [],
   "source": [
    "import os\n",
    "\n",
    "# --- Add these lines at the very top of your script ---\n",
    "# This must be done BEFORE importing numpy or other scientific libraries.\n",
    "os.environ['OMP_NUM_THREADS'] = '1'\n",
    "\n",
    "os.environ['MKL_NUM_THREADS'] = '1'\n",
    "os.environ['OPENBLAS_NUM_THREADS'] = '1'\n",
    "os.environ['VECLIB_MAXIMUM_THREADS'] = '1'\n",
    "os.environ['NUMEXPR_NUM_THREADS'] = '1'\n",
    "from NEGF_device_generation import UnitCell\n",
    "from device import Device\n",
    "from device_hamiltonian import Hamiltonian\n",
    "from lead_self_energy import LeadSelfEnergy\n",
    "from charge import Charge\n",
    "from rgf import GreensFunction"
   ]
  },
  {
   "cell_type": "code",
   "execution_count": 6,
   "id": "e4ac061c",
   "metadata": {},
   "outputs": [
    {
     "data": {
      "text/plain": [
       "np.float64(0.08150301632019406)"
      ]
     },
     "execution_count": 6,
     "metadata": {},
     "output_type": "execute_result"
    }
   ],
   "source": [
    "dev = Device(0.5431 * 1e-9, 0.5431 * 1e-9, 0.5431 * 1e-9, equilibrium=False)\n",
    "ham = Hamiltonian(dev) \n",
    "charge_obj =Charge(dev)\n",
    "gf = GreensFunction(dev, ham, self_energy_method=\"transfer\")\n",
    "sum(gf.compute_density_of_states(E=0.5, equilibrium=False, use_rgf=True, self_energy_method=\"transfer\"))"
   ]
  },
  {
   "cell_type": "code",
   "execution_count": 7,
   "id": "c554c5c0",
   "metadata": {},
   "outputs": [
    {
     "data": {
      "text/plain": [
       "[Atom(0, 0, 0),\n",
       " Atom(0.0, 0.5, 0.5),\n",
       " Atom(0.25, 0.25, 0.25),\n",
       " Atom(0.25, 0.75, 0.75),\n",
       " Atom(0.5, 0.0, 0.5),\n",
       " Atom(0.5, 0.5, 0.0),\n",
       " Atom(0.75, 0.25, 0.75),\n",
       " Atom(0.75, 0.75, 0.25)]"
      ]
     },
     "execution_count": 7,
     "metadata": {},
     "output_type": "execute_result"
    }
   ],
   "source": [
    "dev.unitCell.ATOM_POSITIONS"
   ]
  },
  {
   "cell_type": "code",
   "execution_count": null,
   "id": "0141d463",
   "metadata": {},
   "outputs": [],
   "source": []
  },
  {
   "cell_type": "code",
   "execution_count": null,
   "id": "d450a511",
   "metadata": {},
   "outputs": [],
   "source": [
    "dev = Device(0.5431 * 1e-9, 0.5431 * 1e-9, 0.5431 * 1e-9, equilibrium=False)\n",
    "ham = Hamiltonian(dev) \n",
    "charge_obj =Charge(dev)\n",
    "\n",
    "gf = GreensFunction(dev, hamiltonian=ham)\n",
    "\n"
   ]
  },
  {
   "cell_type": "code",
   "execution_count": null,
   "id": "44779ce0",
   "metadata": {},
   "outputs": [],
   "source": [
    "lse = LeadSelfEnergy(dev, ham)"
   ]
  },
  {
   "cell_type": "code",
   "execution_count": null,
   "id": "fdf83a35",
   "metadata": {},
   "outputs": [],
   "source": [
    "X = lse.self_energy(\"right\", 0, method=\"sancho_rubio\")\n",
    "X[:31,:31]"
   ]
  },
  {
   "cell_type": "code",
   "execution_count": null,
   "id": "85cbe838",
   "metadata": {},
   "outputs": [],
   "source": [
    "import time\n",
    "\n",
    "import matplotlib.pyplot as plt\n",
    "\n",
    "methods = [\"sancho_rubio\", \"iterative\", \"transfer\"]\n",
    "lengths = [0.5431 * n * 1e-9 for n in [5, 10, 20, 40, 80, 160]]\n",
    "timings = {method: [] for method in methods}\n",
    "\n",
    "for L in lengths:\n",
    "    dev_test = Device(L, 0.5431 * 2e-9, 0.5431 * 5e-9)\n",
    "    ham_test = Hamiltonian(dev_test)\n",
    "    for method in methods:\n",
    "        lse_test = LeadSelfEnergy(dev_test, ham_test)\n",
    "        start = time.time()\n",
    "        try:\n",
    "            lse_test.self_energy(\"right\", 0, method=method)\n",
    "        except Exception as e:\n",
    "            timings[method].append(float('nan'))\n",
    "            continue\n",
    "        end = time.time()\n",
    "        timings[method].append(end - start)\n",
    "\n",
    "plt.figure(figsize=(10, 6))\n",
    "for method in methods:\n",
    "    plt.plot([L * 1e9 for L in lengths], timings[method], marker='o', label=method)\n",
    "plt.xlabel('Device Length (nm)')\n",
    "plt.ylabel('Time (s)')\n",
    "plt.title('Self-Energy Method Timing vs Device Length')\n",
    "plt.legend()\n",
    "plt.grid(True)\n",
    "plt.yscale('log')\n",
    "plt.show()"
   ]
  },
  {
   "cell_type": "code",
   "execution_count": null,
   "id": "b7e087e7",
   "metadata": {},
   "outputs": [],
   "source": [
    "dev = Device(0.5431 * 3e-9, 0.5431 * 3e-9, 0.5431 * 3e-9, equilibrium=False)\n",
    "ham = Hamiltonian(dev) \n",
    "charge_obj =Charge(dev)\n",
    "\n",
    "gf = GreensFunction(dev, hamiltonian=ham)\n",
    "\n",
    "\n",
    "energy, DOS = charge_obj.calculate_DOS(equilibrium=False)\n"
   ]
  },
  {
   "cell_type": "code",
   "execution_count": null,
   "id": "83ea569c",
   "metadata": {},
   "outputs": [],
   "source": [
    "import matplotlib.pyplot as plt\n",
    "\n",
    "plt.figure(figsize=(8, 5))\n",
    "plt.plot(energy, DOS, label='DOS vs Energy')\n",
    "plt.xlabel('Energy (eV)')\n",
    "plt.ylabel('Density of States (DOS)')\n",
    "plt.title('Energy vs Density of States')\n",
    "plt.legend()\n",
    "plt.grid(True)\n",
    "plt.show()"
   ]
  },
  {
   "cell_type": "code",
   "execution_count": null,
   "id": "fd8d07a6",
   "metadata": {},
   "outputs": [],
   "source": []
  },
  {
   "cell_type": "code",
   "execution_count": null,
   "id": "19aa4dfa",
   "metadata": {},
   "outputs": [],
   "source": [
    "from rgf import GreensFunction\n",
    "\n",
    "GF = GreensFunction(dev, ham, self_energy_method=\"sancho_rubio\")\n",
    "\n",
    "sum(GF.compute_density_of_states(1.2))"
   ]
  },
  {
   "cell_type": "code",
   "execution_count": null,
   "id": "0ba00dd3",
   "metadata": {},
   "outputs": [],
   "source": []
  },
  {
   "cell_type": "code",
   "execution_count": null,
   "id": "0325f8a8",
   "metadata": {},
   "outputs": [],
   "source": []
  }
 ],
 "metadata": {
  "kernelspec": {
   "display_name": ".venv",
   "language": "python",
   "name": "python3"
  },
  "language_info": {
   "codemirror_mode": {
    "name": "ipython",
    "version": 3
   },
   "file_extension": ".py",
   "mimetype": "text/x-python",
   "name": "python",
   "nbconvert_exporter": "python",
   "pygments_lexer": "ipython3",
   "version": "3.11.5"
  }
 },
 "nbformat": 4,
 "nbformat_minor": 5
}
