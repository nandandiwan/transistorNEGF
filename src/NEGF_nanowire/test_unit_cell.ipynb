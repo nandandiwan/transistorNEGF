{
 "cells": [
  {
   "cell_type": "code",
   "execution_count": 1,
   "id": "110b4896",
   "metadata": {},
   "outputs": [],
   "source": [
    "import os\n",
    "\n",
    "# --- Add these lines at the very top of your script ---\n",
    "# This must be done BEFORE importing numpy or other scientific libraries.\n",
    "os.environ['OMP_NUM_THREADS'] = '1'\n",
    "\n",
    "os.environ['MKL_NUM_THREADS'] = '1'\n",
    "os.environ['OPENBLAS_NUM_THREADS'] = '1'\n",
    "os.environ['VECLIB_MAXIMUM_THREADS'] = '1'\n",
    "os.environ['NUMEXPR_NUM_THREADS'] = '1'\n",
    "from NEGF_device_generation import UnitCell, PeriodicUnitCell\n",
    "from device import Device\n",
    "from device_hamiltonian import Hamiltonian\n",
    "from lead_self_energy import LeadSelfEnergy\n",
    "from charge import Charge\n",
    "from rgf import GreensFunction\n",
    "import numpy as np "
   ]
  },
  {
   "cell_type": "code",
   "execution_count": null,
   "id": "95502fe3",
   "metadata": {},
   "outputs": [],
   "source": []
  },
  {
   "cell_type": "code",
   "execution_count": 2,
   "id": "e4ac061c",
   "metadata": {},
   "outputs": [
    {
     "data": {
      "text/plain": [
       "np.float64(0.4819259462584643)"
      ]
     },
     "execution_count": 2,
     "metadata": {},
     "output_type": "execute_result"
    }
   ],
   "source": [
    "dev = Device(0.5431 * 1e-9, 0.5431 * 1e-9, 0.5431 * 1e-9, equilibrium=False)\n",
    "ham = Hamiltonian(dev) \n",
    "charge_obj =Charge(dev)\n",
    "gf = GreensFunction(dev, ham, self_energy_method=\"sancho_rubio\")\n",
    "sum(gf.compute_density_of_states(E=.2, equilibrium=False, use_rgf=True, self_energy_method=\"sancho_rubio\"))"
   ]
  },
  {
   "cell_type": "code",
   "execution_count": null,
   "id": "2c49fad1",
   "metadata": {},
   "outputs": [],
   "source": [
    "pcell = PeriodicUnitCell(dev.channel_length, dev.channel_width, dev.channel_thickness)"
   ]
  },
  {
   "cell_type": "code",
   "execution_count": null,
   "id": "0541a451",
   "metadata": {},
   "outputs": [
    {
     "data": {
      "text/plain": [
       "[Atom(0, 0, 0),\n",
       " Atom(0.0, 0.5, 0.5),\n",
       " Atom(0.25, 0.25, 0.25),\n",
       " Atom(0.25, 0.75, 0.75),\n",
       " Atom(0.5, 0.0, 0.5),\n",
       " Atom(0.5, 0.5, 0.0),\n",
       " Atom(0.75, 0.25, 0.75),\n",
       " Atom(0.75, 0.75, 0.25)]"
      ]
     },
     "execution_count": 4,
     "metadata": {},
     "output_type": "execute_result"
    }
   ],
   "source": [
    "pcell.ATOM_POSITIONS"
   ]
  },
  {
   "cell_type": "code",
   "execution_count": null,
   "id": "9664e897",
   "metadata": {},
   "outputs": [
    {
     "data": {
      "text/plain": [
       "{Atom(0, 0, 0): [(Atom(0.25, 0.25, 0.25),\n",
       "   (0.25, 0.25, 0.25),\n",
       "   np.float64(0.5773502691896258),\n",
       "   np.float64(0.5773502691896258),\n",
       "   np.float64(0.5773502691896258))],\n",
       " Atom(0.0, 0.5, 0.5): [(Atom(0.25, 0.75, 0.75),\n",
       "   (0.25, 0.25, 0.25),\n",
       "   np.float64(0.5773502691896258),\n",
       "   np.float64(0.5773502691896258),\n",
       "   np.float64(0.5773502691896258)),\n",
       "  (Atom(0.25, 0.25, 0.25),\n",
       "   (0.25, -0.25, -0.25),\n",
       "   np.float64(0.5773502691896258),\n",
       "   np.float64(-0.5773502691896258),\n",
       "   np.float64(-0.5773502691896258)),\n",
       "  (Atom(0.75, 0.75, 0.25),\n",
       "   (-0.25, 0.25, -0.25),\n",
       "   np.float64(-0.5773502691896258),\n",
       "   np.float64(0.5773502691896258),\n",
       "   np.float64(-0.5773502691896258)),\n",
       "  (Atom(0.75, 0.25, 0.75),\n",
       "   (-0.25, -0.25, 0.25),\n",
       "   np.float64(-0.5773502691896258),\n",
       "   np.float64(-0.5773502691896258),\n",
       "   np.float64(0.5773502691896258))],\n",
       " Atom(0.25, 0.25, 0.25): [(Atom(0.0, 0.0, 0.0),\n",
       "   (-0.25, -0.25, -0.25),\n",
       "   np.float64(-0.5773502691896258),\n",
       "   np.float64(-0.5773502691896258),\n",
       "   np.float64(-0.5773502691896258)),\n",
       "  (Atom(0.0, 0.5, 0.5),\n",
       "   (-0.25, 0.25, 0.25),\n",
       "   np.float64(-0.5773502691896258),\n",
       "   np.float64(0.5773502691896258),\n",
       "   np.float64(0.5773502691896258)),\n",
       "  (Atom(0.5, 0.0, 0.5),\n",
       "   (0.25, -0.25, 0.25),\n",
       "   np.float64(0.5773502691896258),\n",
       "   np.float64(-0.5773502691896258),\n",
       "   np.float64(0.5773502691896258)),\n",
       "  (Atom(0.5, 0.5, 0.0),\n",
       "   (0.25, 0.25, -0.25),\n",
       "   np.float64(0.5773502691896258),\n",
       "   np.float64(0.5773502691896258),\n",
       "   np.float64(-0.5773502691896258))],\n",
       " Atom(0.25, 0.75, 0.75): [(Atom(0.0, 0.5, 0.5),\n",
       "   (-0.25, -0.25, -0.25),\n",
       "   np.float64(-0.5773502691896258),\n",
       "   np.float64(-0.5773502691896258),\n",
       "   np.float64(-0.5773502691896258))],\n",
       " Atom(0.5, 0.0, 0.5): [(Atom(0.75, 0.25, 0.75),\n",
       "   (0.25, 0.25, 0.25),\n",
       "   np.float64(0.5773502691896258),\n",
       "   np.float64(0.5773502691896258),\n",
       "   np.float64(0.5773502691896258)),\n",
       "  (Atom(0.25, 0.25, 0.25),\n",
       "   (-0.25, 0.25, -0.25),\n",
       "   np.float64(-0.5773502691896258),\n",
       "   np.float64(0.5773502691896258),\n",
       "   np.float64(-0.5773502691896258))],\n",
       " Atom(0.5, 0.5, 0.0): [(Atom(0.75, 0.75, 0.25),\n",
       "   (0.25, 0.25, 0.25),\n",
       "   np.float64(0.5773502691896258),\n",
       "   np.float64(0.5773502691896258),\n",
       "   np.float64(0.5773502691896258)),\n",
       "  (Atom(0.25, 0.25, 0.25),\n",
       "   (-0.25, -0.25, 0.25),\n",
       "   np.float64(-0.5773502691896258),\n",
       "   np.float64(-0.5773502691896258),\n",
       "   np.float64(0.5773502691896258))],\n",
       " Atom(0.75, 0.25, 0.75): [(Atom(0.5, 0.0, 0.5),\n",
       "   (-0.25, -0.25, -0.25),\n",
       "   np.float64(-0.5773502691896258),\n",
       "   np.float64(-0.5773502691896258),\n",
       "   np.float64(-0.5773502691896258)),\n",
       "  (Atom(0.0, 0.5, 0.5),\n",
       "   (0.25, 0.25, -0.25),\n",
       "   np.float64(0.5773502691896258),\n",
       "   np.float64(0.5773502691896258),\n",
       "   np.float64(-0.5773502691896258))],\n",
       " Atom(0.75, 0.75, 0.25): [(Atom(0.5, 0.5, 0.0),\n",
       "   (-0.25, -0.25, -0.25),\n",
       "   np.float64(-0.5773502691896258),\n",
       "   np.float64(-0.5773502691896258),\n",
       "   np.float64(-0.5773502691896258)),\n",
       "  (Atom(0.0, 0.5, 0.5),\n",
       "   (0.25, -0.25, 0.25),\n",
       "   np.float64(0.5773502691896258),\n",
       "   np.float64(-0.5773502691896258),\n",
       "   np.float64(0.5773502691896258))]}"
      ]
     },
     "execution_count": 4,
     "metadata": {},
     "output_type": "execute_result"
    }
   ],
   "source": [
    "pcell.neighbors"
   ]
  },
  {
   "cell_type": "code",
   "execution_count": null,
   "id": "c554c5c0",
   "metadata": {},
   "outputs": [],
   "source": [
    "unitCell = ham.unitCell"
   ]
  },
  {
   "cell_type": "code",
   "execution_count": null,
   "id": "0141d463",
   "metadata": {},
   "outputs": [
    {
     "data": {
      "text/plain": [
       "[Atom(0, 0, 0),\n",
       " Atom(0.0, 0.5, 0.5),\n",
       " Atom(0.25, 0.25, 0.25),\n",
       " Atom(0.25, 0.75, 0.75),\n",
       " Atom(0.5, 0.0, 0.5),\n",
       " Atom(0.5, 0.5, 0.0),\n",
       " Atom(0.75, 0.25, 0.75),\n",
       " Atom(0.75, 0.75, 0.25)]"
      ]
     },
     "execution_count": 4,
     "metadata": {},
     "output_type": "execute_result"
    }
   ],
   "source": [
    "unitCell.ATOM_POSITIONS"
   ]
  },
  {
   "cell_type": "code",
   "execution_count": null,
   "id": "f2d1d974",
   "metadata": {},
   "outputs": [
    {
     "data": {
      "text/plain": [
       "{Atom(0, 0, 0): [(Atom(0.25, 0.25, 0.25),\n",
       "   (0.25, 0.25, 0.25),\n",
       "   np.float64(0.5773502691896258),\n",
       "   np.float64(0.5773502691896258),\n",
       "   np.float64(0.5773502691896258))],\n",
       " Atom(0.0, 0.5, 0.5): [(Atom(0.25, 0.75, 0.75),\n",
       "   (0.25, 0.25, 0.25),\n",
       "   np.float64(0.5773502691896258),\n",
       "   np.float64(0.5773502691896258),\n",
       "   np.float64(0.5773502691896258)),\n",
       "  (Atom(0.25, 0.25, 0.25),\n",
       "   (0.25, -0.25, -0.25),\n",
       "   np.float64(0.5773502691896258),\n",
       "   np.float64(-0.5773502691896258),\n",
       "   np.float64(-0.5773502691896258))],\n",
       " Atom(0.25, 0.25, 0.25): [(Atom(0.0, 0.0, 0.0),\n",
       "   (-0.25, -0.25, -0.25),\n",
       "   np.float64(-0.5773502691896258),\n",
       "   np.float64(-0.5773502691896258),\n",
       "   np.float64(-0.5773502691896258)),\n",
       "  (Atom(0.0, 0.5, 0.5),\n",
       "   (-0.25, 0.25, 0.25),\n",
       "   np.float64(-0.5773502691896258),\n",
       "   np.float64(0.5773502691896258),\n",
       "   np.float64(0.5773502691896258)),\n",
       "  (Atom(0.5, 0.0, 0.5),\n",
       "   (0.25, -0.25, 0.25),\n",
       "   np.float64(0.5773502691896258),\n",
       "   np.float64(-0.5773502691896258),\n",
       "   np.float64(0.5773502691896258)),\n",
       "  (Atom(0.5, 0.5, 0.0),\n",
       "   (0.25, 0.25, -0.25),\n",
       "   np.float64(0.5773502691896258),\n",
       "   np.float64(0.5773502691896258),\n",
       "   np.float64(-0.5773502691896258))],\n",
       " Atom(0.25, 0.75, 0.75): [(Atom(0.0, 0.5, 0.5),\n",
       "   (-0.25, -0.25, -0.25),\n",
       "   np.float64(-0.5773502691896258),\n",
       "   np.float64(-0.5773502691896258),\n",
       "   np.float64(-0.5773502691896258))],\n",
       " Atom(0.5, 0.0, 0.5): [(Atom(0.75, 0.25, 0.75),\n",
       "   (0.25, 0.25, 0.25),\n",
       "   np.float64(0.5773502691896258),\n",
       "   np.float64(0.5773502691896258),\n",
       "   np.float64(0.5773502691896258)),\n",
       "  (Atom(0.25, 0.25, 0.25),\n",
       "   (-0.25, 0.25, -0.25),\n",
       "   np.float64(-0.5773502691896258),\n",
       "   np.float64(0.5773502691896258),\n",
       "   np.float64(-0.5773502691896258))],\n",
       " Atom(0.5, 0.5, 0.0): [(Atom(0.75, 0.75, 0.25),\n",
       "   (0.25, 0.25, 0.25),\n",
       "   np.float64(0.5773502691896258),\n",
       "   np.float64(0.5773502691896258),\n",
       "   np.float64(0.5773502691896258)),\n",
       "  (Atom(0.25, 0.25, 0.25),\n",
       "   (-0.25, -0.25, 0.25),\n",
       "   np.float64(-0.5773502691896258),\n",
       "   np.float64(-0.5773502691896258),\n",
       "   np.float64(0.5773502691896258))],\n",
       " Atom(0.75, 0.25, 0.75): [(Atom(0.5, 0.0, 0.5),\n",
       "   (-0.25, -0.25, -0.25),\n",
       "   np.float64(-0.5773502691896258),\n",
       "   np.float64(-0.5773502691896258),\n",
       "   np.float64(-0.5773502691896258))],\n",
       " Atom(0.75, 0.75, 0.25): [(Atom(0.5, 0.5, 0.0),\n",
       "   (-0.25, -0.25, -0.25),\n",
       "   np.float64(-0.5773502691896258),\n",
       "   np.float64(-0.5773502691896258),\n",
       "   np.float64(-0.5773502691896258))]}"
      ]
     },
     "execution_count": 5,
     "metadata": {},
     "output_type": "execute_result"
    }
   ],
   "source": [
    "unitCell.neighbors"
   ]
  },
  {
   "cell_type": "code",
   "execution_count": null,
   "id": "8ebdfa5d",
   "metadata": {},
   "outputs": [
    {
     "data": {
      "text/plain": [
       "{Atom(0, 0, 0): [(Atom(0.25, -0.25, -0.25), 1),\n",
       "  (Atom(-0.25, 0.25, -0.25), 2),\n",
       "  (Atom(-0.25, -0.25, 0.25), 3)],\n",
       " Atom(0.0, 0.5, 0.5): [],\n",
       " Atom(0.25, 0.25, 0.25): [],\n",
       " Atom(0.25, 0.75, 0.75): [(Atom(0.0, 1.0, 1.0), 1),\n",
       "  (Atom(0.5, 0.5, 1.0), 2),\n",
       "  (Atom(0.5, 1.0, 0.5), 3)],\n",
       " Atom(0.5, 0.0, 0.5): [(Atom(0.75, -0.25, 0.25), 1),\n",
       "  (Atom(0.25, -0.25, 0.75), 3)],\n",
       " Atom(0.5, 0.5, 0.0): [(Atom(0.75, 0.25, -0.25), 1),\n",
       "  (Atom(0.25, 0.75, -0.25), 2)],\n",
       " Atom(0.75, 0.25, 0.75): [(Atom(0.5, 0.5, 1.0), 1), (Atom(1.0, 0.0, 1.0), 2)],\n",
       " Atom(0.75, 0.75, 0.25): [(Atom(0.5, 1.0, 0.5), 1), (Atom(1.0, 1.0, 0.0), 3)]}"
      ]
     },
     "execution_count": 6,
     "metadata": {},
     "output_type": "execute_result"
    }
   ],
   "source": [
    "unitCell.danglingBonds"
   ]
  },
  {
   "cell_type": "code",
   "execution_count": null,
   "id": "d450a511",
   "metadata": {},
   "outputs": [
    {
     "name": "stdout",
     "output_type": "stream",
     "text": [
      "[-0.01335341-2.46969367e-04j -0.02275059-8.24740514e-05j\n",
      " -0.02577497-2.36064002e-04j -0.01976655-8.57341329e-05j\n",
      " -0.07292511-6.88644428e-06j -0.07171631-6.32299909e-06j\n",
      " -0.07449026-3.18660368e-05j -0.07938517-7.66469074e-05j\n",
      " -0.07631442-6.35745728e-05j -0.04966089-8.25333904e-06j\n",
      "  0.06692293-1.84313375e-04j -0.24000273-2.82855062e-04j\n",
      "  0.08526253-5.25416661e-04j -0.06218036-2.29807424e-04j\n",
      " -0.07705684-7.25680948e-05j -0.07477005-7.70961808e-06j\n",
      " -0.07505855-2.21951445e-06j -0.08014057-1.82100010e-06j\n",
      " -0.08195801-9.34145528e-05j -0.06764293-7.08299747e-07j\n",
      " -0.00304429-4.70135830e-04j  0.07513525-3.84223296e-04j\n",
      "  0.08377751-1.11922322e-03j  0.08095302-2.06649722e-03j\n",
      " -0.08805657-6.67754084e-06j -0.07838565-1.68174680e-05j\n",
      " -0.08308879-2.05945670e-04j -0.08819163-1.92438652e-04j\n",
      " -0.09604651-8.93914508e-07j -0.06659128-4.06041168e-05j\n",
      " -0.19973934-8.72749512e-08j -0.0542861 -1.02348782e-05j\n",
      " -0.07155731-6.36563340e-07j -0.06503684-6.49389615e-06j\n",
      " -0.07008042-2.66591948e-06j -0.0725381 -1.00429164e-07j\n",
      " -0.06955317-1.11103183e-05j -0.07876143-1.59608736e-05j\n",
      " -0.07916659-4.40538286e-06j -0.04640656-5.18799484e-07j\n",
      "  0.00879718-2.91111211e-04j  0.02410766-1.08492485e-03j\n",
      " -0.01709502-1.72310158e-04j  0.03789435-1.61295499e-04j\n",
      " -0.07482101-1.48121883e-05j -0.07351001-5.42434433e-04j\n",
      " -0.07715393-9.12459148e-04j -0.07908117-9.09813508e-06j\n",
      " -0.07985163-6.56722750e-04j -0.05451817-2.33843760e-06j\n",
      "  0.00301448-2.10237502e-04j  0.02119847-1.25119032e-05j\n",
      "  0.03115255-8.35664087e-04j -0.02088764-3.14846909e-05j\n",
      " -0.07678612-3.44937634e-04j -0.072937  -1.85002630e-04j\n",
      " -0.07578675-2.67092968e-04j -0.08229515-2.83440094e-03j\n",
      " -0.08003383-8.30169765e-05j -0.05475925-2.23616664e-04j\n",
      " -0.1647777 -1.30455671e-01j -0.02153554-1.52252582e-02j\n",
      " -0.01994281-1.56260455e-02j -0.12156773-6.10950227e-02j\n",
      " -0.07592389-3.71258979e-04j -0.07722168-1.95226846e-03j\n",
      " -0.07555971-1.61497086e-03j -0.07925684-4.94833669e-10j\n",
      " -0.08679455-4.31143371e-03j -0.05507719-1.77383040e-03j\n",
      " -0.00854021-2.93143741e-03j -0.02156633-2.17165332e-02j\n",
      " -0.07666664-4.36521245e-02j -0.00062621-2.45860463e-04j\n",
      " -0.1019653 -1.70648462e-02j -0.08511431-2.97890535e-03j\n",
      " -0.07742234-3.26532803e-03j -0.0905044 -1.96561447e-05j\n",
      " -0.09254019-4.54521656e-03j -0.05995969-3.49908918e-03j]\n"
     ]
    }
   ],
   "source": [
    "G_R, G_lesser_diag, Gamma_L, Gamma_R = gf._compute_direct_greens_function(E=0,compute_lesser=True, self_energy_method=\"sancho_rubio\")\n",
    "print(np.diagonal(G_R.toarray()))"
   ]
  },
  {
   "cell_type": "code",
   "execution_count": null,
   "id": "4df272bd",
   "metadata": {},
   "outputs": [
    {
     "name": "stdout",
     "output_type": "stream",
     "text": [
      "[2.46969367e-04-2.03287907e-19j 8.24740514e-05-3.81164826e-20j\n",
      " 2.36064002e-04+1.69406589e-20j 8.57341329e-05-3.64224167e-20j\n",
      " 6.88644428e-06-1.27054942e-21j 6.32299909e-06-2.91167576e-21j\n",
      " 3.18660368e-05-1.48230766e-21j 7.66469074e-05-2.96461532e-21j\n",
      " 6.35745728e-05+2.54109884e-21j 8.25333904e-06+2.11758237e-22j\n",
      " 1.84313375e-04-2.71050543e-20j 2.82855062e-04+1.90582413e-20j\n",
      " 5.25416661e-04+3.38813179e-21j 2.29807424e-04+2.54109884e-20j\n",
      " 7.25680948e-05+1.77876919e-20j 7.70961808e-06-2.27640105e-21j\n",
      " 2.21951445e-06-6.61744490e-22j 1.82100010e-06+1.85288457e-21j\n",
      " 9.34145528e-05-6.77626358e-21j 7.08299747e-07+7.94093388e-23j\n",
      " 4.70135830e-04-1.38913403e-19j 3.84223296e-04-5.42101086e-20j\n",
      " 1.11922322e-03-2.84603070e-19j 2.06649722e-03+1.89735380e-19j\n",
      " 6.67754084e-06+7.41153829e-21j 1.68174680e-05-2.96461532e-21j\n",
      " 2.05945670e-04+1.86347248e-20j 1.92438652e-04+1.69406589e-21j\n",
      " 8.93914508e-07-2.96461532e-21j 4.06041168e-05+2.54109884e-21j\n",
      " 8.72749512e-08+5.95570041e-23j 1.02348782e-05-2.11758237e-22j\n",
      " 6.36563340e-07-7.41153829e-22j 6.49389615e-06-1.00585162e-21j\n",
      " 2.66591948e-06-1.32348898e-22j 1.00429164e-07+1.73707929e-23j\n",
      " 1.11103183e-05-4.55280209e-21j 1.59608736e-05-2.64697796e-22j\n",
      " 4.40538286e-06-3.17637355e-22j 5.18799484e-07-4.00355416e-22j\n",
      " 2.91111211e-04+4.74338450e-20j 1.08492485e-03+4.06575815e-20j\n",
      " 1.72310158e-04+3.38813179e-21j 1.61295499e-04-2.03287907e-20j\n",
      " 1.48121883e-05-2.06464281e-21j 5.42434433e-04+2.37169225e-20j\n",
      " 9.12459148e-04+2.03287907e-20j 9.09813508e-06-1.48230766e-21j\n",
      " 6.56722750e-04-4.06575815e-20j 2.33843760e-06+1.37642854e-21j\n",
      " 2.10237502e-04+0.00000000e+00j 1.25119032e-05+1.52465931e-20j\n",
      " 8.35664087e-04+1.08420217e-19j 3.14846909e-05+5.59041745e-20j\n",
      " 3.44937634e-04-3.38813179e-21j 1.85002630e-04-6.77626358e-21j\n",
      " 2.67092968e-04+1.35525272e-20j 2.83440094e-03+9.48676901e-20j\n",
      " 8.30169765e-05+1.18584613e-20j 2.23616664e-04-6.77626358e-21j\n",
      " 1.30455671e-01+7.37257477e-18j 1.52252582e-02+4.87890978e-19j\n",
      " 1.56260455e-02-4.33680869e-19j 6.10950227e-02+1.08420217e-18j\n",
      " 3.71258979e-04-3.38813179e-21j 1.95226846e-03+9.48676901e-20j\n",
      " 1.61497086e-03-1.08420217e-19j 4.94833669e-10-2.84343336e-25j\n",
      " 4.31143371e-03-2.98155597e-19j 1.77383040e-03+8.13151629e-20j\n",
      " 2.93143741e-03+0.00000000e+00j 2.17165332e-02+2.16840434e-18j\n",
      " 4.36521245e-02+2.38524478e-18j 2.45860463e-04+2.71050543e-20j\n",
      " 1.70648462e-02+2.16840434e-19j 2.97890535e-03+5.42101086e-20j\n",
      " 3.26532803e-03-2.16840434e-19j 1.96561447e-05+6.77626358e-21j\n",
      " 4.54521656e-03+5.69206141e-19j 3.49908918e-03-4.33680869e-19j]\n"
     ]
    }
   ],
   "source": [
    "print(G_lesser_diag)"
   ]
  },
  {
   "cell_type": "code",
   "execution_count": null,
   "id": "4bec0a5f",
   "metadata": {},
   "outputs": [
    {
     "name": "stdout",
     "output_type": "stream",
     "text": [
      "[-0.01335341-2.46969367e-04j -0.02275059-8.24740514e-05j\n",
      " -0.02577497-2.36064002e-04j -0.01976655-8.57341329e-05j\n",
      " -0.07292511-6.88644428e-06j -0.07171631-6.32299909e-06j\n",
      " -0.07449026-3.18660368e-05j -0.07938517-7.66469074e-05j\n",
      " -0.07631442-6.35745728e-05j -0.04966089-8.25333904e-06j\n",
      "  0.06692293-1.84313375e-04j -0.24000273-2.82855062e-04j\n",
      "  0.08526253-5.25416661e-04j -0.06218036-2.29807424e-04j\n",
      " -0.07705684-7.25680948e-05j -0.07477005-7.70961808e-06j\n",
      " -0.07505855-2.21951445e-06j -0.08014057-1.82100010e-06j\n",
      " -0.08195801-9.34145528e-05j -0.06764293-7.08299747e-07j\n",
      " -0.00304429-4.70135830e-04j  0.07513525-3.84223296e-04j\n",
      "  0.08377751-1.11922322e-03j  0.08095302-2.06649722e-03j\n",
      " -0.08805657-6.67754084e-06j -0.07838565-1.68174680e-05j\n",
      " -0.08308879-2.05945670e-04j -0.08819163-1.92438652e-04j\n",
      " -0.09604651-8.93914508e-07j -0.06659128-4.06041168e-05j\n",
      " -0.19973934-8.72749512e-08j -0.0542861 -1.02348782e-05j\n",
      " -0.07155731-6.36563340e-07j -0.06503684-6.49389615e-06j\n",
      " -0.07008042-2.66591948e-06j -0.0725381 -1.00429164e-07j\n",
      " -0.06955317-1.11103183e-05j -0.07876143-1.59608736e-05j\n",
      " -0.07916659-4.40538286e-06j -0.04640656-5.18799484e-07j\n",
      "  0.00879718-2.91111211e-04j  0.02410766-1.08492485e-03j\n",
      " -0.01709502-1.72310158e-04j  0.03789435-1.61295499e-04j\n",
      " -0.07482101-1.48121883e-05j -0.07351001-5.42434433e-04j\n",
      " -0.07715393-9.12459148e-04j -0.07908117-9.09813508e-06j\n",
      " -0.07985163-6.56722750e-04j -0.05451817-2.33843760e-06j\n",
      "  0.00301448-2.10237502e-04j  0.02119847-1.25119032e-05j\n",
      "  0.03115255-8.35664087e-04j -0.02088764-3.14846909e-05j\n",
      " -0.07678612-3.44937634e-04j -0.072937  -1.85002630e-04j\n",
      " -0.07578675-2.67092968e-04j -0.08229515-2.83440094e-03j\n",
      " -0.08003383-8.30169765e-05j -0.05475925-2.23616664e-04j\n",
      " -0.1647777 -1.30455671e-01j -0.02153554-1.52252582e-02j\n",
      " -0.01994281-1.56260455e-02j -0.12156773-6.10950227e-02j\n",
      " -0.07592389-3.71258979e-04j -0.07722168-1.95226846e-03j\n",
      " -0.07555971-1.61497086e-03j -0.07925684-4.94833669e-10j\n",
      " -0.08679455-4.31143371e-03j -0.05507719-1.77383040e-03j\n",
      " -0.00854021-2.93143741e-03j -0.02156633-2.17165332e-02j\n",
      " -0.07666664-4.36521245e-02j -0.00062621-2.45860463e-04j\n",
      " -0.1019653 -1.70648462e-02j -0.08511431-2.97890535e-03j\n",
      " -0.07742234-3.26532803e-03j -0.0905044 -1.96561447e-05j\n",
      " -0.09254019-4.54521656e-03j -0.05995969-3.49908918e-03j]\n"
     ]
    }
   ],
   "source": [
    "G_R, G_lesser_diag, Gamma_L, Gamma_R = gf._compute_rgf_greens_function(E=0,compute_lesser=True, self_energy_method=\"sancho_rubio\")\n",
    "print(G_R)"
   ]
  },
  {
   "cell_type": "code",
   "execution_count": null,
   "id": "26c3e28c",
   "metadata": {},
   "outputs": [
    {
     "name": "stdout",
     "output_type": "stream",
     "text": [
      "[2.46969367e-04+2.19070759e-19j 8.24740514e-05+8.99757181e-20j\n",
      " 2.36064002e-04+1.38677566e-19j 8.57341329e-05+1.29849543e-19j\n",
      " 6.88644428e-06+3.91401429e-22j 6.32299909e-06+8.49003640e-21j\n",
      " 3.18660368e-05+3.15793607e-21j 7.66469074e-05+1.55141876e-20j\n",
      " 6.35745728e-05+1.89415959e-21j 8.25333904e-06+1.99730372e-21j\n",
      " 1.84313375e-04+8.10724791e-20j 2.82855062e-04+5.10418065e-20j\n",
      " 5.25416661e-04+5.65422927e-20j 2.29807424e-04+2.13422744e-20j\n",
      " 7.25680948e-05+1.39801156e-20j 7.70961808e-06+7.11936319e-21j\n",
      " 2.21951445e-06+7.37081216e-21j 1.82100010e-06+1.45217009e-21j\n",
      " 9.34145528e-05+1.65990915e-21j 7.08299747e-07+2.59803425e-22j\n",
      " 4.70135830e-04+1.93600506e-19j 3.84223296e-04+2.73312307e-19j\n",
      " 1.11922322e-03-8.11315547e-20j 2.06649722e-03-4.50487085e-20j\n",
      " 6.67754084e-06+3.29636458e-20j 1.68174680e-05+3.95526952e-21j\n",
      " 2.05945670e-04+1.23675189e-19j 1.92438652e-04+9.26856474e-20j\n",
      " 8.93914508e-07+3.89928773e-20j 4.06041168e-05+5.46838154e-21j\n",
      " 8.72749512e-08+5.88520023e-23j 1.02348782e-05+4.95193612e-21j\n",
      " 6.36563340e-07+8.87128185e-22j 6.49389615e-06+3.58441109e-21j\n",
      " 2.66591948e-06+1.09317815e-21j 1.00429164e-07+1.36187937e-23j\n",
      " 1.11103183e-05+4.15755758e-21j 1.59608736e-05+2.12473336e-21j\n",
      " 4.40538286e-06+8.50057326e-23j 5.18799484e-07+3.55516815e-22j\n",
      " 2.91111211e-04+1.55958692e-18j 1.08492485e-03+2.05743533e-18j\n",
      " 1.72310158e-04+9.70869540e-19j 1.61295499e-04+1.49629284e-18j\n",
      " 1.48121883e-05+1.53327619e-19j 5.42434433e-04+3.82668183e-20j\n",
      " 9.12459148e-04-2.11792617e-20j 9.09813508e-06-1.28940720e-20j\n",
      " 6.56722750e-04+9.88793868e-20j 2.33843760e-06+1.78877499e-20j\n",
      " 2.10237502e-04+3.27024948e-19j 1.25119032e-05+2.50606105e-19j\n",
      " 8.35664087e-04+1.75006059e-19j 3.14846909e-05+2.30198100e-19j\n",
      " 3.44937634e-04-6.74623628e-21j 1.85002630e-04-1.52593061e-21j\n",
      " 2.67092968e-04+6.80272859e-20j 2.83440094e-03+1.43976834e-19j\n",
      " 8.30169765e-05-1.08941242e-20j 2.23616664e-04+1.16124429e-20j\n",
      " 1.30455671e-01+1.38777878e-17j 1.52252582e-02-8.67361738e-19j\n",
      " 1.56260455e-02+1.73472348e-18j 6.10950227e-02+6.93889390e-18j\n",
      " 3.71258979e-04+0.00000000e+00j 1.95226846e-03+1.08420217e-19j\n",
      " 1.61497086e-03-2.16840434e-19j 4.94833669e-10+6.77900361e-24j\n",
      " 4.31143371e-03+2.16840434e-19j 1.77383040e-03+1.08420217e-19j\n",
      " 2.93143741e-03-2.16840434e-19j 2.17165332e-02+1.73472348e-18j\n",
      " 4.36521245e-02+3.46944695e-18j 2.45860463e-04-4.06575815e-20j\n",
      " 1.70648462e-02+8.67361738e-19j 2.97890535e-03+2.16840434e-19j\n",
      " 3.26532803e-03+2.16840434e-19j 1.96561447e-05+0.00000000e+00j\n",
      " 4.54521656e-03-4.33680869e-19j 3.49908918e-03-2.16840434e-19j]\n"
     ]
    }
   ],
   "source": [
    "print(G_lesser_diag)"
   ]
  },
  {
   "cell_type": "code",
   "execution_count": null,
   "id": "44779ce0",
   "metadata": {},
   "outputs": [],
   "source": [
    "lse = LeadSelfEnergy(dev, ham)"
   ]
  },
  {
   "cell_type": "code",
   "execution_count": null,
   "id": "fdf83a35",
   "metadata": {},
   "outputs": [],
   "source": [
    "X = lse.self_energy(\"right\", 0, method=\"sancho_rubio\")\n",
    "X[:31,:31]"
   ]
  },
  {
   "cell_type": "code",
   "execution_count": null,
   "id": "85cbe838",
   "metadata": {},
   "outputs": [],
   "source": [
    "import time\n",
    "\n",
    "import matplotlib.pyplot as plt\n",
    "\n",
    "methods = [\"sancho_rubio\", \"iterative\", \"transfer\"]\n",
    "lengths = [0.5431 * n * 1e-9 for n in [5, 10, 20, 40, 80, 160]]\n",
    "timings = {method: [] for method in methods}\n",
    "\n",
    "for L in lengths:\n",
    "    dev_test = Device(L, 0.5431 * 2e-9, 0.5431 * 5e-9)\n",
    "    ham_test = Hamiltonian(dev_test)\n",
    "    for method in methods:\n",
    "        lse_test = LeadSelfEnergy(dev_test, ham_test)\n",
    "        start = time.time()\n",
    "        try:\n",
    "            lse_test.self_energy(\"right\", 0, method=method)\n",
    "        except Exception as e:\n",
    "            timings[method].append(float('nan'))\n",
    "            continue\n",
    "        end = time.time()\n",
    "        timings[method].append(end - start)\n",
    "\n",
    "plt.figure(figsize=(10, 6))\n",
    "for method in methods:\n",
    "    plt.plot([L * 1e9 for L in lengths], timings[method], marker='o', label=method)\n",
    "plt.xlabel('Device Length (nm)')\n",
    "plt.ylabel('Time (s)')\n",
    "plt.title('Self-Energy Method Timing vs Device Length')\n",
    "plt.legend()\n",
    "plt.grid(True)\n",
    "plt.yscale('log')\n",
    "plt.show()"
   ]
  },
  {
   "cell_type": "code",
   "execution_count": 3,
   "id": "b7e087e7",
   "metadata": {},
   "outputs": [
    {
     "name": "stdout",
     "output_type": "stream",
     "text": [
      "Calculating DOS with 200 \n",
      "Using sancho_rubio method for surface Green's functions\n",
      "Starting DOS calculations for 200 energy pts...\n"
     ]
    },
    {
     "name": "stdout",
     "output_type": "stream",
     "text": [
      "DOS calculation completed in 24.47 seconds\n",
      "DOS data saved to dos_data.txt\n"
     ]
    }
   ],
   "source": [
    "dev = Device(0.5431 * 2e-9, 0.5431 * 2e-9, 0.5431 * 2e-9, equilibrium=False)\n",
    "ham = Hamiltonian(dev) \n",
    "charge_obj =Charge(dev)\n",
    "\n",
    "gf = GreensFunction(dev, hamiltonian=ham)\n",
    "\n",
    "\n",
    "energy, DOS = charge_obj.calculate_DOS(equilibrium=False)\n"
   ]
  },
  {
   "cell_type": "code",
   "execution_count": 4,
   "id": "83ea569c",
   "metadata": {},
   "outputs": [
    {
     "data": {
      "image/png": "[encoded data removed]",
      "text/plain": [
       "<Figure size 800x500 with 1 Axes>"
      ]
     },
     "metadata": {},
     "output_type": "display_data"
    }
   ],
   "source": [
    "import matplotlib.pyplot as plt\n",
    "\n",
    "plt.figure(figsize=(8, 5))\n",
    "plt.plot(energy, DOS, label='DOS vs Energy')\n",
    "plt.xlabel('Energy (eV)')\n",
    "plt.ylabel('Density of States (DOS)')\n",
    "plt.title('Energy vs Density of States')\n",
    "plt.legend()\n",
    "plt.grid(True)\n",
    "plt.show()"
   ]
  },
  {
   "cell_type": "code",
   "execution_count": null,
   "id": "fd8d07a6",
   "metadata": {},
   "outputs": [],
   "source": []
  },
  {
   "cell_type": "code",
   "execution_count": null,
   "id": "19aa4dfa",
   "metadata": {},
   "outputs": [],
   "source": [
    "from rgf import GreensFunction\n",
    "\n",
    "GF = GreensFunction(dev, ham, self_energy_method=\"sancho_rubio\")\n",
    "\n",
    "sum(GF.compute_density_of_states(1.2))"
   ]
  },
  {
   "cell_type": "code",
   "execution_count": null,
   "id": "0ba00dd3",
   "metadata": {},
   "outputs": [],
   "source": []
  },
  {
   "cell_type": "code",
   "execution_count": null,
   "id": "0325f8a8",
   "metadata": {},
   "outputs": [],
   "source": []
  }
 ],
 "metadata": {
  "kernelspec": {
   "display_name": ".venv",
   "language": "python",
   "name": "python3"
  },
  "language_info": {
   "codemirror_mode": {
    "name": "ipython",
    "version": 3
   },
   "file_extension": ".py",
   "mimetype": "text/x-python",
   "name": "python",
   "nbconvert_exporter": "python",
   "pygments_lexer": "ipython3",
   "version": "3.11.5"
  }
 },
 "nbformat": 4,
 "nbformat_minor": 5
}
