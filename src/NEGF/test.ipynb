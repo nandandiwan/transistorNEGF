{
 "cells": [
  {
   "cell_type": "code",
   "execution_count": 1,
   "id": "41bf8202",
   "metadata": {},
   "outputs": [],
   "source": [
    "from device import Device\n",
    "from rgf import GreensFunction\n",
    "import scipy as sp\n",
    "from hamiltonian import Hamiltonian\n",
    "from helper import Helper_functions\n",
    "import scipy.sparse as spa\n",
    "import numpy as np\n",
    "import scipy.sparse as sp\n",
    "from lead_self_energy import LeadSelfEnergy\n",
    "from scipy.sparse import bmat, identity, random\n",
    "from scipy.sparse.linalg import eigsh, eigs\n",
    "import time"
   ]
  },
  {
   "cell_type": "code",
   "execution_count": 9,
   "id": "6c1ec88f",
   "metadata": {},
   "outputs": [
    {
     "name": "stdout",
     "output_type": "stream",
     "text": [
      "(140, 6)\n",
      "(140, 6)\n",
      "Hamiltonian construction: 0.7412052154541016 \n",
      "               Self Energy construction: 0.5562310218811035 \n",
      "                   Forward iteration: 0.629638671875 \n",
      "                       Backward iteration: 0.06818222999572754\n"
     ]
    }
   ],
   "source": [
    "device = Device()\n",
    "ham = Hamiltonian(device)\n",
    "lse = LeadSelfEnergy(device, ham)\n",
    "gf = GreensFunction(device, ham)\n",
    "\n",
    "G_R, gamma1, gamma2, sigmaL, sigmaR = gf.sparse_rgf_G_R(0.1, 0.1)\n",
    "\n"
   ]
  },
  {
   "cell_type": "code",
   "execution_count": null,
   "id": "51180023",
   "metadata": {},
   "outputs": [],
   "source": [
    "sigma = lse.iterative_self_energy()"
   ]
  },
  {
   "cell_type": "code",
   "execution_count": null,
   "id": "d4866c87",
   "metadata": {},
   "outputs": [],
   "source": [
    "from poisson import PoissonSolver\n",
    "\n",
    "poissonSolver = PoissonSolver(device)"
   ]
  },
  {
   "cell_type": "code",
   "execution_count": null,
   "id": "606ee238",
   "metadata": {},
   "outputs": [],
   "source": [
    "poissonSolver.solve_poisson_equation()\n",
    "\n"
   ]
  },
  {
   "cell_type": "code",
   "execution_count": null,
   "id": "0daa1b9d",
   "metadata": {},
   "outputs": [],
   "source": [
    "device = Device()\n",
    "ham = Hamiltonian(device)\n",
    "rgf = GreensFunction(device, ham)\n",
    "\n",
    "G_R, gamma1, gamma2, sigmaL, sigmaR= rgf.sparse_rgf_G_R(E=0.1, ky = 0.1)\n"
   ]
  },
  {
   "cell_type": "code",
   "execution_count": null,
   "id": "fc06b7ef",
   "metadata": {},
   "outputs": [],
   "source": [
    "print(G_R[0].shape)"
   ]
  },
  {
   "cell_type": "code",
   "execution_count": null,
   "id": "5c55d0f4",
   "metadata": {},
   "outputs": [],
   "source": [
    "time_start = time.time()\n",
    "dagger = lambda A: np.conjugate(A.T)\n",
    "side = \"left\"\n",
    "Hpp_matrices = [None] * lead.P\n",
    "HpP_matrices = [None] * lead.P\n",
    "hPP,hPP1 = lead.get_layer_hamiltonian(lead.P, side)\n",
    "\n",
    "HPP = Helper_functions.sparse_inverse(spa.csc_matrix(lead.E * np.eye(hPP.shape[0]) - hPP))\n",
    "Hpp_matrices[-1], HpP_matrices[-1] = HPP, HPP\n",
    "for i in range(lead.P - 1, 0, -1):\n",
    "    \n",
    "    hpp, hpp1 = lead.get_layer_hamiltonian(i, side)\n",
    "    Hpp = Helper_functions.sparse_inverse(spa.csc_matrix(lead.E * np.eye(hPP.shape[0]) - \\\n",
    "        hpp - hpp1 @ Hpp_matrices[i] @ dagger(hpp1)))\n",
    "    Hpp_matrices[i - 1] = Hpp\n",
    "    HpP = Hpp_matrices[i - 1] @ hpp1 @ HpP_matrices[i]\n",
    "    HpP_matrices[i - 1] = HpP\n",
    "    \n",
    "C22 = Hpp_matrices[1]\n",
    "C2P = HpP_matrices[1]\n",
    "C_matrices = [None] * 4\n",
    "C_matrices[1] = C22\n",
    "for p in range(3, lead.P + 1):\n",
    "    hpp, hpp1 = lead.get_layer_hamiltonian(i, side)\n",
    "    C_matrices[p - 1] = Hpp_matrices[p - 1] + Hpp_matrices[p -1] @ (hpp1 @ C_matrices[p -2] @ dagger(hpp1)) @ Hpp_matrices[p - 1] \n",
    "\n",
    "h11, h12 = lead.get_layer_hamiltonian(1, side)\n",
    "\n",
    "XIs = h11 + h12 @ C_matrices[1] @ dagger(h12)\n",
    "XI = XIs + dagger(hPP1) @ C_matrices[-1] @ hPP1\n",
    "PI = h12 @ C2P @ hPP1\n",
    "\n",
    "\n",
    "\n"
   ]
  },
  {
   "cell_type": "code",
   "execution_count": null,
   "id": "8ac3aca3",
   "metadata": {},
   "outputs": [],
   "source": [
    "XIs = spa.csc_matrix(XIs)\n",
    "XI = spa.csc_matrix(XI)\n",
    "PI = spa.csc_matrix(PI)\n",
    "I = np.eye(XI.shape[0], dtype=XI)\n",
    "Z = I * 0\n",
    "D = lead.E * I.copy() - XI\n",
    "T = -PI\n",
    "\n",
    "A = bmat([\n",
    "    [Z, I],\n",
    "    [-T.conj().T, -D]\n",
    "], format='csc')\n",
    "\n",
    "B = bmat([\n",
    "    [I, Z],\n",
    "    [Z, T]\n",
    "], format='csc')\n",
    "\n",
    "eigenvalues, eigenvectors = eigs(A, M=B, sigma=1.0, which='LM')\n",
    "\n",
    "\n",
    "\n",
    "\n",
    "def construct_U_plus_and_Lambda_plus(eigenvalues, eigenvectors, n_dim, epsilon=0.1):\n",
    "    abs_vals = np.abs(eigenvalues)\n",
    "    \n",
    "\n",
    "    is_propagating = np.isclose(abs_vals, 1.0)\n",
    "    is_evanescent = (abs_vals < 1.0) & (abs_vals > epsilon)\n",
    "    \n",
    "    selected_indices = np.where(is_propagating | is_evanescent)[0]\n",
    "    \n",
    "    if len(selected_indices) == 0:\n",
    "        return np.array([], dtype=complex), np.array([],dtype=complex)\n",
    "        \n",
    "    filtered_eigenvalues = eigenvalues[selected_indices]\n",
    "    filtered_eigenvectors = eigenvectors[:, selected_indices]\n",
    "\n",
    "    Lambda_plus = np.diag(filtered_eigenvalues)\n",
    "    U_plus = filtered_eigenvectors[:n_dim, :]\n",
    "\n",
    "    return U_plus, Lambda_plus\n",
    "\n",
    "U_plus, Lambda = construct_U_plus_and_Lambda_plus(eigenvalues, eigenvectors, T.shape[0], epsilon=0.1)\n",
    "\n",
    "U_pseudo = np.linalg.pinv(U_plus)\n",
    "F = U_plus @ Lambda @ U_pseudo\n",
    "\n",
    "Y = np.linalg.solve(lead.E * I - XIs.toarray() - PI.toarray() @ F, dagger(h12.toarray()))\n",
    "self_energy = h12 @ Y\n",
    "time_end = time.time()\n",
    "print(f\"time is: {time_end - time_start}\")"
   ]
  },
  {
   "cell_type": "code",
   "execution_count": null,
   "id": "fa0be79a",
   "metadata": {},
   "outputs": [],
   "source": [
    "print(self_energy)"
   ]
  },
  {
   "cell_type": "code",
   "execution_count": null,
   "id": "a5d07c5c",
   "metadata": {},
   "outputs": [],
   "source": [
    "H00,H10 = device.hamiltonian.get_H00_H01(ky=0.1, sparse=True)\n",
    "print(H00)"
   ]
  },
  {
   "cell_type": "code",
   "execution_count": null,
   "id": "ab1c35c2",
   "metadata": {},
   "outputs": [],
   "source": [
    "H00,H10 = device.hamiltonian.get_H00_H01(ky=0.1, sparse=False)\n",
    "print(H00)"
   ]
  },
  {
   "cell_type": "code",
   "execution_count": null,
   "id": "85ded7a6",
   "metadata": {},
   "outputs": [],
   "source": [
    "def surface_gf(Energy, H00, H10, tol=1e-6): \n",
    "    \"\"\" \n",
    "    This iteratively calculates the surface green's function for the lead based. \n",
    "    Although it is tested for 1D, it should be good for 2D surfaces. \n",
    "    \"\"\"\n",
    "\n",
    "    Energy = Energy\n",
    "    dagger = lambda A: np.conjugate(A.T)\n",
    "    \n",
    "    I = np.eye(H00.shape[0], dtype=complex)\n",
    "    H01 = dagger(H10)\n",
    "\n",
    "    epsilon_s = H00.copy()\n",
    "    epsilon = H00.copy()\n",
    "    alpha = H01.copy()\n",
    "    beta = dagger(H10).copy()\n",
    "    err = 1.0\n",
    "    first_time = True\n",
    "\n",
    "    while err > tol:\n",
    "        if first_time:\n",
    "            inv_E = Helper_functions.sparse_inverse(spa.csr_matrix(Energy * I) - spa.csr_matrix(epsilon))\n",
    "            first_time = False\n",
    "        else:\n",
    "\n",
    "            inv_E = np.linalg.solve(Energy * I - epsilon, I)\n",
    "    \n",
    "        epsilon_s_new = epsilon_s + alpha @ inv_E @ beta\n",
    "        epsilon_new = epsilon + beta @ inv_E @ alpha + alpha @ inv_E @ beta\n",
    "        alpha_new = alpha @ inv_E @ alpha\n",
    "        beta_new = beta @ inv_E @ beta\n",
    "\n",
    "        err = np.linalg.norm(alpha_new, ord='fro')\n",
    "\n",
    "        epsilon_s, epsilon, alpha, beta = epsilon_s_new, epsilon_new, alpha_new, beta_new\n",
    "\n",
    "    return  np.linalg.solve(Energy * I - epsilon_s, I)\n",
    "H00,H10 = device.hamiltonian.get_H00_H01(ky=0.1, sparse=True)\n",
    "\n",
    "\n",
    "surface_gf(0, H00, H10, tol=1e-3)"
   ]
  },
  {
   "cell_type": "code",
   "execution_count": null,
   "id": "2eda6d20",
   "metadata": {},
   "outputs": [],
   "source": [
    "def surface_gf(Energy, H00 : np.ndarray, H10: np.ndarray, tol=1e-6): \n",
    "    \"\"\" \n",
    "    This iteratively calculates the surface green's function for the lead based. \n",
    "    Although it is tested for 1D, it should be good for 2D surfaces. \n",
    "    \"\"\"\n",
    "    \n",
    "    Energy = Energy\n",
    "    dagger = lambda A: np.conjugate(A.T)\n",
    "    \n",
    "    I = np.eye(H00.shape[0], dtype=complex)\n",
    "    H01 = dagger(H10)\n",
    "\n",
    "    epsilon_s = H00.copy()\n",
    "    epsilon = H00.copy()\n",
    "    alpha = H01.copy()\n",
    "    beta = dagger(H10).copy()\n",
    "    err = 1.0\n",
    "\n",
    "    while err > tol:\n",
    "        inv_E = np.linalg.solve(Energy * I - epsilon, I)\n",
    "\n",
    "        epsilon_s_new = epsilon_s + alpha @ inv_E @ beta\n",
    "        epsilon_new = epsilon + beta @ inv_E @ alpha + alpha @ inv_E @ beta\n",
    "        alpha_new = alpha @ inv_E @ alpha\n",
    "        beta_new = beta @ inv_E @ beta\n",
    "\n",
    "        err = np.linalg.norm(alpha_new, ord='fro')\n",
    "\n",
    "        epsilon_s, epsilon, alpha, beta = epsilon_s_new, epsilon_new, alpha_new, beta_new\n",
    "\n",
    "    return  np.linalg.solve(Energy * I - epsilon_s, I)\n",
    "\n",
    "H00,H10 = device.hamiltonian.get_H00_H01(ky=0.1, sparse=False)\n",
    "\n",
    "surface_gf(0, H00, H10)"
   ]
  },
  {
   "cell_type": "code",
   "execution_count": null,
   "id": "6d552ef3",
   "metadata": {},
   "outputs": [],
   "source": [
    "from helper import Helper_functions\n",
    "\n",
    "H00,H10 = device.hamiltonian.get_H00_H01(ky=0.1, sparse=True)\n",
    "print(H00)\n",
    "Helper_functions.sparse_inverse(-H00)\n",
    "H00,H10 = device.hamiltonian.get_H00_H01(ky=0.1, sparse=False)\n",
    "print(H00)\n",
    "Helper_functions.sparse_inverse(-H00)"
   ]
  },
  {
   "cell_type": "code",
   "execution_count": null,
   "id": "a6fe2130",
   "metadata": {},
   "outputs": [],
   "source": [
    "H = device.hamiltonian.create_sparse_hamlitonian(0.1)"
   ]
  }
 ],
 "metadata": {
  "kernelspec": {
   "display_name": ".venv",
   "language": "python",
   "name": "python3"
  },
  "language_info": {
   "codemirror_mode": {
    "name": "ipython",
    "version": 3
   },
   "file_extension": ".py",
   "mimetype": "text/x-python",
   "name": "python",
   "nbconvert_exporter": "python",
   "pygments_lexer": "ipython3",
   "version": "3.11.5"
  }
 },
 "nbformat": 4,
 "nbformat_minor": 5
}
