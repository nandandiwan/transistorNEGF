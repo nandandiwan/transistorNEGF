{
 "cells": [
  {
   "cell_type": "code",
   "execution_count": null,
   "id": "9ed7c7fe",
   "metadata": {},
   "outputs": [],
   "source": [
    "import os\n",
    "\n",
    "# --- Add these lines at the very top of your script ---\n",
    "# This must be done BEFORE importing numpy or other scientific libraries.\n",
    "os.environ['OMP_NUM_THREADS'] = '1'\n",
    "os.environ['MKL_NUM_THREADS'] = '1'\n",
    "os.environ['OPENBLAS_NUM_THREADS'] = '1'\n",
    "os.environ['VECLIB_MAXIMUM_THREADS'] = '1'\n",
    "os.environ['NUMEXPR_NUM_THREADS'] = '1'\n",
    "\n",
    "import numpy as np\n",
    "import multiprocessing\n",
    "import matplotlib.pyplot as plt\n",
    "from collections import defaultdict\n",
    "from itertools import product\n",
    "import time\n",
    "from device import Device\n",
    "from NEGF_sim_git.src.archive.rgf import GreensFunction\n",
    "from hamiltonian import Hamiltonian\n",
    "from device import Device\n",
    "from NEGF_sim_git.src.archive.rgf import GreensFunction\n",
    "import scipy as sp\n",
    "from hamiltonian import Hamiltonian\n",
    "from helper import Helper_functions\n",
    "import scipy.sparse as spa\n",
    "import numpy as np\n",
    "import scipy.sparse as sp\n",
    "from lead_self_energy import LeadSelfEnergy\n",
    "from scipy.sparse import bmat, identity, random, csc_matrix\n",
    "from scipy.sparse.linalg import eigsh, eigs, spsolve\n",
    "import time\n",
    "from charge import Charge"
   ]
  },
  {
   "cell_type": "code",
   "execution_count": 2,
   "id": "afd2337a",
   "metadata": {},
   "outputs": [
    {
     "name": "stdout",
     "output_type": "stream",
     "text": [
      "(7.991148054905903-0.00010475260124397965j)\n",
      "(7.991148054905855-0.00010475260124397984j)\n"
     ]
    }
   ],
   "source": [
    "dev = Device(2e-9, 1e-9)\n",
    "ham = Hamiltonian(dev)\n",
    "lse = LeadSelfEnergy(dev, ham)\n",
    "\n",
    "sl = lse.self_energy(\"left\", 0,0)\n",
    "print(np.trace(sl))\n",
    "sr = lse.self_energy(\"right\", 0,0)\n",
    "print(np.trace(sr))"
   ]
  },
  {
   "cell_type": "code",
   "execution_count": 3,
   "id": "95a16cab",
   "metadata": {},
   "outputs": [
    {
     "name": "stderr",
     "output_type": "stream",
     "text": [
      "/home/nandan_diwan/Desktop/NEGF_sim/.venv/lib/python3.11/site-packages/scipy/sparse/_index.py:210: SparseEfficiencyWarning: Changing the sparsity structure of a csc_matrix is expensive. lil and dok are more efficient.\n",
      "  self._set_arrayXarray(i, j, x)\n"
     ]
    },
    {
     "data": {
      "text/plain": [
       "0.00010151758248318354"
      ]
     },
     "execution_count": 3,
     "metadata": {},
     "output_type": "execute_result"
    }
   ],
   "source": [
    "charge = Charge(dev)\n",
    "\n",
    "charge._calculate_dos_point(0,0)"
   ]
  },
  {
   "cell_type": "code",
   "execution_count": 7,
   "id": "77aaceb5",
   "metadata": {},
   "outputs": [
    {
     "data": {
      "text/plain": [
       "1.2753421344592795"
      ]
     },
     "execution_count": 7,
     "metadata": {},
     "output_type": "execute_result"
    }
   ],
   "source": [
    "charge._calculate_dos_point(-1,0)"
   ]
  },
  {
   "cell_type": "code",
   "execution_count": null,
   "id": "654635ac",
   "metadata": {},
   "outputs": [],
   "source": []
  }
 ],
 "metadata": {
  "kernelspec": {
   "display_name": ".venv",
   "language": "python",
   "name": "python3"
  },
  "language_info": {
   "codemirror_mode": {
    "name": "ipython",
    "version": 3
   },
   "file_extension": ".py",
   "mimetype": "text/x-python",
   "name": "python",
   "nbconvert_exporter": "python",
   "pygments_lexer": "ipython3",
   "version": "3.11.5"
  }
 },
 "nbformat": 4,
 "nbformat_minor": 5
}
