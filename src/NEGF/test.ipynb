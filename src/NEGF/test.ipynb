{
 "cells": [
  {
   "cell_type": "code",
   "execution_count": 1,
   "id": "41bf8202",
   "metadata": {},
   "outputs": [],
   "source": [
    "from device import Device\n",
    "from rgf import GreensFunction\n",
    "import scipy as sp\n",
    "from hamiltonian import Hamiltonian\n",
    "from helper import Helper_functions\n",
    "import scipy.sparse as spa\n",
    "import numpy as np\n",
    "import scipy.sparse as sp\n",
    "from lead_self_energy import LeadSelfEnergy\n",
    "from scipy.sparse import bmat, identity, random\n",
    "from scipy.sparse.linalg import eigsh, eigs\n",
    "import time"
   ]
  },
  {
   "cell_type": "code",
   "execution_count": 2,
   "id": "1a675b7f",
   "metadata": {},
   "outputs": [
    {
     "data": {
      "text/plain": [
       "0"
      ]
     },
     "execution_count": 2,
     "metadata": {},
     "output_type": "execute_result"
    }
   ],
   "source": [
    "device = Device(channel_length = 9.33e-9)\n",
    "ham = Hamiltonian(device)\n",
    "lse = LeadSelfEnergy(device, ham)\n",
    "gf = GreensFunction(device, ham)\n",
    "\n",
    "ham.layer_right_lead"
   ]
  },
  {
   "cell_type": "code",
   "execution_count": 4,
   "id": "b878a69f",
   "metadata": {},
   "outputs": [
    {
     "name": "stdout",
     "output_type": "stream",
     "text": [
      "[Atom(0, 0, 0), Atom(0, 0.5, 0.5), Atom(0, 0, 1), Atom(0, 0.5, 1.5), Atom(0, 0, 2), Atom(0, 0.5, 2.5), Atom(0, 0, 3), Atom(0, 0.5, 3.5), Atom(0, 0, 4), Atom(0, 0.5, 4.5), Atom(0, 0, 5), Atom(0, 0.5, 5.5), Atom(0, 0, 6), Atom(0, 0.5, 6.5), Atom(0.25, 0.25, 0.25), Atom(0.25, 0.75, 0.75), Atom(0.25, 0.25, 1.25), Atom(0.25, 0.75, 1.75), Atom(0.25, 0.25, 2.25), Atom(0.25, 0.75, 2.75), Atom(0.25, 0.25, 3.25), Atom(0.25, 0.75, 3.75), Atom(0.25, 0.25, 4.25), Atom(0.25, 0.75, 4.75), Atom(0.25, 0.25, 5.25), Atom(0.25, 0.75, 5.75), Atom(0.25, 0.25, 6.25), Atom(0.25, 0.75, 6.75), Atom(0.5, 0.5, 0), Atom(0.5, 0, 0.5), Atom(0.5, 0.5, 1), Atom(0.5, 0, 1.5), Atom(0.5, 0.5, 2), Atom(0.5, 0, 2.5), Atom(0.5, 0.5, 3), Atom(0.5, 0, 3.5), Atom(0.5, 0.5, 4), Atom(0.5, 0, 4.5), Atom(0.5, 0.5, 5), Atom(0.5, 0, 5.5), Atom(0.5, 0.5, 6), Atom(0.5, 0, 6.5), Atom(0.75, 0.75, 0.25), Atom(0.75, 0.25, 0.75), Atom(0.75, 0.75, 1.25), Atom(0.75, 0.25, 1.75), Atom(0.75, 0.75, 2.25), Atom(0.75, 0.25, 2.75), Atom(0.75, 0.75, 3.25), Atom(0.75, 0.25, 3.75), Atom(0.75, 0.75, 4.25), Atom(0.75, 0.25, 4.75), Atom(0.75, 0.75, 5.25), Atom(0.75, 0.25, 5.75), Atom(0.75, 0.75, 6.25), Atom(0.75, 0.25, 6.75), Atom(1, 0, 0), Atom(1, 0.5, 0.5), Atom(1, 0, 1), Atom(1, 0.5, 1.5), Atom(1, 0, 2), Atom(1, 0.5, 2.5), Atom(1, 0, 3), Atom(1, 0.5, 3.5), Atom(1, 0, 4), Atom(1, 0.5, 4.5), Atom(1, 0, 5), Atom(1, 0.5, 5.5), Atom(1, 0, 6), Atom(1, 0.5, 6.5), Atom(1.25, 0.25, 0.25), Atom(1.25, 0.75, 0.75), Atom(1.25, 0.25, 1.25), Atom(1.25, 0.75, 1.75), Atom(1.25, 0.25, 2.25), Atom(1.25, 0.75, 2.75), Atom(1.25, 0.25, 3.25), Atom(1.25, 0.75, 3.75), Atom(1.25, 0.25, 4.25), Atom(1.25, 0.75, 4.75), Atom(1.25, 0.25, 5.25), Atom(1.25, 0.75, 5.75), Atom(1.25, 0.25, 6.25), Atom(1.25, 0.75, 6.75), Atom(1.5, 0.5, 0), Atom(1.5, 0, 0.5), Atom(1.5, 0.5, 1), Atom(1.5, 0, 1.5), Atom(1.5, 0.5, 2), Atom(1.5, 0, 2.5), Atom(1.5, 0.5, 3), Atom(1.5, 0, 3.5), Atom(1.5, 0.5, 4), Atom(1.5, 0, 4.5), Atom(1.5, 0.5, 5), Atom(1.5, 0, 5.5), Atom(1.5, 0.5, 6), Atom(1.5, 0, 6.5), Atom(1.75, 0.75, 0.25), Atom(1.75, 0.25, 0.75), Atom(1.75, 0.75, 1.25), Atom(1.75, 0.25, 1.75), Atom(1.75, 0.75, 2.25), Atom(1.75, 0.25, 2.75), Atom(1.75, 0.75, 3.25), Atom(1.75, 0.25, 3.75), Atom(1.75, 0.75, 4.25), Atom(1.75, 0.25, 4.75), Atom(1.75, 0.75, 5.25), Atom(1.75, 0.25, 5.75), Atom(1.75, 0.75, 6.25), Atom(1.75, 0.25, 6.75), Atom(2, 0, 0), Atom(2, 0.5, 0.5), Atom(2, 0, 1), Atom(2, 0.5, 1.5), Atom(2, 0, 2), Atom(2, 0.5, 2.5), Atom(2, 0, 3), Atom(2, 0.5, 3.5), Atom(2, 0, 4), Atom(2, 0.5, 4.5), Atom(2, 0, 5), Atom(2, 0.5, 5.5), Atom(2, 0, 6), Atom(2, 0.5, 6.5), Atom(2.25, 0.25, 0.25), Atom(2.25, 0.75, 0.75), Atom(2.25, 0.25, 1.25), Atom(2.25, 0.75, 1.75), Atom(2.25, 0.25, 2.25), Atom(2.25, 0.75, 2.75), Atom(2.25, 0.25, 3.25), Atom(2.25, 0.75, 3.75), Atom(2.25, 0.25, 4.25), Atom(2.25, 0.75, 4.75), Atom(2.25, 0.25, 5.25), Atom(2.25, 0.75, 5.75), Atom(2.25, 0.25, 6.25), Atom(2.25, 0.75, 6.75), Atom(2.5, 0.5, 0), Atom(2.5, 0, 0.5), Atom(2.5, 0.5, 1), Atom(2.5, 0, 1.5), Atom(2.5, 0.5, 2), Atom(2.5, 0, 2.5), Atom(2.5, 0.5, 3), Atom(2.5, 0, 3.5), Atom(2.5, 0.5, 4), Atom(2.5, 0, 4.5), Atom(2.5, 0.5, 5), Atom(2.5, 0, 5.5), Atom(2.5, 0.5, 6), Atom(2.5, 0, 6.5), Atom(2.75, 0.75, 0.25), Atom(2.75, 0.25, 0.75), Atom(2.75, 0.75, 1.25), Atom(2.75, 0.25, 1.75), Atom(2.75, 0.75, 2.25), Atom(2.75, 0.25, 2.75), Atom(2.75, 0.75, 3.25), Atom(2.75, 0.25, 3.75), Atom(2.75, 0.75, 4.25), Atom(2.75, 0.25, 4.75), Atom(2.75, 0.75, 5.25), Atom(2.75, 0.25, 5.75), Atom(2.75, 0.75, 6.25), Atom(2.75, 0.25, 6.75), Atom(3, 0, 0), Atom(3, 0.5, 0.5), Atom(3, 0, 1), Atom(3, 0.5, 1.5), Atom(3, 0, 2), Atom(3, 0.5, 2.5), Atom(3, 0, 3), Atom(3, 0.5, 3.5), Atom(3, 0, 4), Atom(3, 0.5, 4.5), Atom(3, 0, 5), Atom(3, 0.5, 5.5), Atom(3, 0, 6), Atom(3, 0.5, 6.5), Atom(3.25, 0.25, 0.25), Atom(3.25, 0.75, 0.75), Atom(3.25, 0.25, 1.25), Atom(3.25, 0.75, 1.75), Atom(3.25, 0.25, 2.25), Atom(3.25, 0.75, 2.75), Atom(3.25, 0.25, 3.25), Atom(3.25, 0.75, 3.75), Atom(3.25, 0.25, 4.25), Atom(3.25, 0.75, 4.75), Atom(3.25, 0.25, 5.25), Atom(3.25, 0.75, 5.75), Atom(3.25, 0.25, 6.25), Atom(3.25, 0.75, 6.75), Atom(3.5, 0.5, 0), Atom(3.5, 0, 0.5), Atom(3.5, 0.5, 1), Atom(3.5, 0, 1.5), Atom(3.5, 0.5, 2), Atom(3.5, 0, 2.5), Atom(3.5, 0.5, 3), Atom(3.5, 0, 3.5), Atom(3.5, 0.5, 4), Atom(3.5, 0, 4.5), Atom(3.5, 0.5, 5), Atom(3.5, 0, 5.5), Atom(3.5, 0.5, 6), Atom(3.5, 0, 6.5), Atom(3.75, 0.75, 0.25), Atom(3.75, 0.25, 0.75), Atom(3.75, 0.75, 1.25), Atom(3.75, 0.25, 1.75), Atom(3.75, 0.75, 2.25), Atom(3.75, 0.25, 2.75), Atom(3.75, 0.75, 3.25), Atom(3.75, 0.25, 3.75), Atom(3.75, 0.75, 4.25), Atom(3.75, 0.25, 4.75), Atom(3.75, 0.75, 5.25), Atom(3.75, 0.25, 5.75), Atom(3.75, 0.75, 6.25), Atom(3.75, 0.25, 6.75), Atom(4, 0, 0), Atom(4, 0.5, 0.5), Atom(4, 0, 1), Atom(4, 0.5, 1.5), Atom(4, 0, 2), Atom(4, 0.5, 2.5), Atom(4, 0, 3), Atom(4, 0.5, 3.5), Atom(4, 0, 4), Atom(4, 0.5, 4.5), Atom(4, 0, 5), Atom(4, 0.5, 5.5), Atom(4, 0, 6), Atom(4, 0.5, 6.5), Atom(4.25, 0.25, 0.25), Atom(4.25, 0.75, 0.75), Atom(4.25, 0.25, 1.25), Atom(4.25, 0.75, 1.75), Atom(4.25, 0.25, 2.25), Atom(4.25, 0.75, 2.75), Atom(4.25, 0.25, 3.25), Atom(4.25, 0.75, 3.75), Atom(4.25, 0.25, 4.25), Atom(4.25, 0.75, 4.75), Atom(4.25, 0.25, 5.25), Atom(4.25, 0.75, 5.75), Atom(4.25, 0.25, 6.25), Atom(4.25, 0.75, 6.75), Atom(4.5, 0.5, 0), Atom(4.5, 0, 0.5), Atom(4.5, 0.5, 1), Atom(4.5, 0, 1.5), Atom(4.5, 0.5, 2), Atom(4.5, 0, 2.5), Atom(4.5, 0.5, 3), Atom(4.5, 0, 3.5), Atom(4.5, 0.5, 4), Atom(4.5, 0, 4.5), Atom(4.5, 0.5, 5), Atom(4.5, 0, 5.5), Atom(4.5, 0.5, 6), Atom(4.5, 0, 6.5), Atom(4.75, 0.75, 0.25), Atom(4.75, 0.25, 0.75), Atom(4.75, 0.75, 1.25), Atom(4.75, 0.25, 1.75), Atom(4.75, 0.75, 2.25), Atom(4.75, 0.25, 2.75), Atom(4.75, 0.75, 3.25), Atom(4.75, 0.25, 3.75), Atom(4.75, 0.75, 4.25), Atom(4.75, 0.25, 4.75), Atom(4.75, 0.75, 5.25), Atom(4.75, 0.25, 5.75), Atom(4.75, 0.75, 6.25), Atom(4.75, 0.25, 6.75), Atom(5, 0, 0), Atom(5, 0.5, 0.5), Atom(5, 0, 1), Atom(5, 0.5, 1.5), Atom(5, 0, 2), Atom(5, 0.5, 2.5), Atom(5, 0, 3), Atom(5, 0.5, 3.5), Atom(5, 0, 4), Atom(5, 0.5, 4.5), Atom(5, 0, 5), Atom(5, 0.5, 5.5), Atom(5, 0, 6), Atom(5, 0.5, 6.5), Atom(5.25, 0.25, 0.25), Atom(5.25, 0.75, 0.75), Atom(5.25, 0.25, 1.25), Atom(5.25, 0.75, 1.75), Atom(5.25, 0.25, 2.25), Atom(5.25, 0.75, 2.75), Atom(5.25, 0.25, 3.25), Atom(5.25, 0.75, 3.75), Atom(5.25, 0.25, 4.25), Atom(5.25, 0.75, 4.75), Atom(5.25, 0.25, 5.25), Atom(5.25, 0.75, 5.75), Atom(5.25, 0.25, 6.25), Atom(5.25, 0.75, 6.75), Atom(5.5, 0.5, 0), Atom(5.5, 0, 0.5), Atom(5.5, 0.5, 1), Atom(5.5, 0, 1.5), Atom(5.5, 0.5, 2), Atom(5.5, 0, 2.5), Atom(5.5, 0.5, 3), Atom(5.5, 0, 3.5), Atom(5.5, 0.5, 4), Atom(5.5, 0, 4.5), Atom(5.5, 0.5, 5), Atom(5.5, 0, 5.5), Atom(5.5, 0.5, 6), Atom(5.5, 0, 6.5), Atom(5.75, 0.75, 0.25), Atom(5.75, 0.25, 0.75), Atom(5.75, 0.75, 1.25), Atom(5.75, 0.25, 1.75), Atom(5.75, 0.75, 2.25), Atom(5.75, 0.25, 2.75), Atom(5.75, 0.75, 3.25), Atom(5.75, 0.25, 3.75), Atom(5.75, 0.75, 4.25), Atom(5.75, 0.25, 4.75), Atom(5.75, 0.75, 5.25), Atom(5.75, 0.25, 5.75), Atom(5.75, 0.75, 6.25), Atom(5.75, 0.25, 6.75), Atom(6, 0, 0), Atom(6, 0.5, 0.5), Atom(6, 0, 1), Atom(6, 0.5, 1.5), Atom(6, 0, 2), Atom(6, 0.5, 2.5), Atom(6, 0, 3), Atom(6, 0.5, 3.5), Atom(6, 0, 4), Atom(6, 0.5, 4.5), Atom(6, 0, 5), Atom(6, 0.5, 5.5), Atom(6, 0, 6), Atom(6, 0.5, 6.5), Atom(6.25, 0.25, 0.25), Atom(6.25, 0.75, 0.75), Atom(6.25, 0.25, 1.25), Atom(6.25, 0.75, 1.75), Atom(6.25, 0.25, 2.25), Atom(6.25, 0.75, 2.75), Atom(6.25, 0.25, 3.25), Atom(6.25, 0.75, 3.75), Atom(6.25, 0.25, 4.25), Atom(6.25, 0.75, 4.75), Atom(6.25, 0.25, 5.25), Atom(6.25, 0.75, 5.75), Atom(6.25, 0.25, 6.25), Atom(6.25, 0.75, 6.75), Atom(6.5, 0.5, 0), Atom(6.5, 0, 0.5), Atom(6.5, 0.5, 1), Atom(6.5, 0, 1.5), Atom(6.5, 0.5, 2), Atom(6.5, 0, 2.5), Atom(6.5, 0.5, 3), Atom(6.5, 0, 3.5), Atom(6.5, 0.5, 4), Atom(6.5, 0, 4.5), Atom(6.5, 0.5, 5), Atom(6.5, 0, 5.5), Atom(6.5, 0.5, 6), Atom(6.5, 0, 6.5), Atom(6.75, 0.75, 0.25), Atom(6.75, 0.25, 0.75), Atom(6.75, 0.75, 1.25), Atom(6.75, 0.25, 1.75), Atom(6.75, 0.75, 2.25), Atom(6.75, 0.25, 2.75), Atom(6.75, 0.75, 3.25), Atom(6.75, 0.25, 3.75), Atom(6.75, 0.75, 4.25), Atom(6.75, 0.25, 4.75), Atom(6.75, 0.75, 5.25), Atom(6.75, 0.25, 5.75), Atom(6.75, 0.75, 6.25), Atom(6.75, 0.25, 6.75), Atom(7, 0, 0), Atom(7, 0.5, 0.5), Atom(7, 0, 1), Atom(7, 0.5, 1.5), Atom(7, 0, 2), Atom(7, 0.5, 2.5), Atom(7, 0, 3), Atom(7, 0.5, 3.5), Atom(7, 0, 4), Atom(7, 0.5, 4.5), Atom(7, 0, 5), Atom(7, 0.5, 5.5), Atom(7, 0, 6), Atom(7, 0.5, 6.5), Atom(7.25, 0.25, 0.25), Atom(7.25, 0.75, 0.75), Atom(7.25, 0.25, 1.25), Atom(7.25, 0.75, 1.75), Atom(7.25, 0.25, 2.25), Atom(7.25, 0.75, 2.75), Atom(7.25, 0.25, 3.25), Atom(7.25, 0.75, 3.75), Atom(7.25, 0.25, 4.25), Atom(7.25, 0.75, 4.75), Atom(7.25, 0.25, 5.25), Atom(7.25, 0.75, 5.75), Atom(7.25, 0.25, 6.25), Atom(7.25, 0.75, 6.75), Atom(7.5, 0.5, 0), Atom(7.5, 0, 0.5), Atom(7.5, 0.5, 1), Atom(7.5, 0, 1.5), Atom(7.5, 0.5, 2), Atom(7.5, 0, 2.5), Atom(7.5, 0.5, 3), Atom(7.5, 0, 3.5), Atom(7.5, 0.5, 4), Atom(7.5, 0, 4.5), Atom(7.5, 0.5, 5), Atom(7.5, 0, 5.5), Atom(7.5, 0.5, 6), Atom(7.5, 0, 6.5), Atom(7.75, 0.75, 0.25), Atom(7.75, 0.25, 0.75), Atom(7.75, 0.75, 1.25), Atom(7.75, 0.25, 1.75), Atom(7.75, 0.75, 2.25), Atom(7.75, 0.25, 2.75), Atom(7.75, 0.75, 3.25), Atom(7.75, 0.25, 3.75), Atom(7.75, 0.75, 4.25), Atom(7.75, 0.25, 4.75), Atom(7.75, 0.75, 5.25), Atom(7.75, 0.25, 5.75), Atom(7.75, 0.75, 6.25), Atom(7.75, 0.25, 6.75), Atom(8, 0, 0), Atom(8, 0.5, 0.5), Atom(8, 0, 1), Atom(8, 0.5, 1.5), Atom(8, 0, 2), Atom(8, 0.5, 2.5), Atom(8, 0, 3), Atom(8, 0.5, 3.5), Atom(8, 0, 4), Atom(8, 0.5, 4.5), Atom(8, 0, 5), Atom(8, 0.5, 5.5), Atom(8, 0, 6), Atom(8, 0.5, 6.5), Atom(8.25, 0.25, 0.25), Atom(8.25, 0.75, 0.75), Atom(8.25, 0.25, 1.25), Atom(8.25, 0.75, 1.75), Atom(8.25, 0.25, 2.25), Atom(8.25, 0.75, 2.75), Atom(8.25, 0.25, 3.25), Atom(8.25, 0.75, 3.75), Atom(8.25, 0.25, 4.25), Atom(8.25, 0.75, 4.75), Atom(8.25, 0.25, 5.25), Atom(8.25, 0.75, 5.75), Atom(8.25, 0.25, 6.25), Atom(8.25, 0.75, 6.75), Atom(8.5, 0.5, 0), Atom(8.5, 0, 0.5), Atom(8.5, 0.5, 1), Atom(8.5, 0, 1.5), Atom(8.5, 0.5, 2), Atom(8.5, 0, 2.5), Atom(8.5, 0.5, 3), Atom(8.5, 0, 3.5), Atom(8.5, 0.5, 4), Atom(8.5, 0, 4.5), Atom(8.5, 0.5, 5), Atom(8.5, 0, 5.5), Atom(8.5, 0.5, 6), Atom(8.5, 0, 6.5), Atom(8.75, 0.75, 0.25), Atom(8.75, 0.25, 0.75), Atom(8.75, 0.75, 1.25), Atom(8.75, 0.25, 1.75), Atom(8.75, 0.75, 2.25), Atom(8.75, 0.25, 2.75), Atom(8.75, 0.75, 3.25), Atom(8.75, 0.25, 3.75), Atom(8.75, 0.75, 4.25), Atom(8.75, 0.25, 4.75), Atom(8.75, 0.75, 5.25), Atom(8.75, 0.25, 5.75), Atom(8.75, 0.75, 6.25), Atom(8.75, 0.25, 6.75), Atom(9, 0, 0), Atom(9, 0.5, 0.5), Atom(9, 0, 1), Atom(9, 0.5, 1.5), Atom(9, 0, 2), Atom(9, 0.5, 2.5), Atom(9, 0, 3), Atom(9, 0.5, 3.5), Atom(9, 0, 4), Atom(9, 0.5, 4.5), Atom(9, 0, 5), Atom(9, 0.5, 5.5), Atom(9, 0, 6), Atom(9, 0.5, 6.5), Atom(9.25, 0.25, 0.25), Atom(9.25, 0.75, 0.75), Atom(9.25, 0.25, 1.25), Atom(9.25, 0.75, 1.75), Atom(9.25, 0.25, 2.25), Atom(9.25, 0.75, 2.75), Atom(9.25, 0.25, 3.25), Atom(9.25, 0.75, 3.75), Atom(9.25, 0.25, 4.25), Atom(9.25, 0.75, 4.75), Atom(9.25, 0.25, 5.25), Atom(9.25, 0.75, 5.75), Atom(9.25, 0.25, 6.25), Atom(9.25, 0.75, 6.75), Atom(9.5, 0.5, 0), Atom(9.5, 0, 0.5), Atom(9.5, 0.5, 1), Atom(9.5, 0, 1.5), Atom(9.5, 0.5, 2), Atom(9.5, 0, 2.5), Atom(9.5, 0.5, 3), Atom(9.5, 0, 3.5), Atom(9.5, 0.5, 4), Atom(9.5, 0, 4.5), Atom(9.5, 0.5, 5), Atom(9.5, 0, 5.5), Atom(9.5, 0.5, 6), Atom(9.5, 0, 6.5), Atom(9.75, 0.75, 0.25), Atom(9.75, 0.25, 0.75), Atom(9.75, 0.75, 1.25), Atom(9.75, 0.25, 1.75), Atom(9.75, 0.75, 2.25), Atom(9.75, 0.25, 2.75), Atom(9.75, 0.75, 3.25), Atom(9.75, 0.25, 3.75), Atom(9.75, 0.75, 4.25), Atom(9.75, 0.25, 4.75), Atom(9.75, 0.75, 5.25), Atom(9.75, 0.25, 5.75), Atom(9.75, 0.75, 6.25), Atom(9.75, 0.25, 6.75), Atom(10, 0, 0), Atom(10, 0.5, 0.5), Atom(10, 0, 1), Atom(10, 0.5, 1.5), Atom(10, 0, 2), Atom(10, 0.5, 2.5), Atom(10, 0, 3), Atom(10, 0.5, 3.5), Atom(10, 0, 4), Atom(10, 0.5, 4.5), Atom(10, 0, 5), Atom(10, 0.5, 5.5), Atom(10, 0, 6), Atom(10, 0.5, 6.5), Atom(10.25, 0.25, 0.25), Atom(10.25, 0.75, 0.75), Atom(10.25, 0.25, 1.25), Atom(10.25, 0.75, 1.75), Atom(10.25, 0.25, 2.25), Atom(10.25, 0.75, 2.75), Atom(10.25, 0.25, 3.25), Atom(10.25, 0.75, 3.75), Atom(10.25, 0.25, 4.25), Atom(10.25, 0.75, 4.75), Atom(10.25, 0.25, 5.25), Atom(10.25, 0.75, 5.75), Atom(10.25, 0.25, 6.25), Atom(10.25, 0.75, 6.75), Atom(10.5, 0.5, 0), Atom(10.5, 0, 0.5), Atom(10.5, 0.5, 1), Atom(10.5, 0, 1.5), Atom(10.5, 0.5, 2), Atom(10.5, 0, 2.5), Atom(10.5, 0.5, 3), Atom(10.5, 0, 3.5), Atom(10.5, 0.5, 4), Atom(10.5, 0, 4.5), Atom(10.5, 0.5, 5), Atom(10.5, 0, 5.5), Atom(10.5, 0.5, 6), Atom(10.5, 0, 6.5), Atom(10.75, 0.75, 0.25), Atom(10.75, 0.25, 0.75), Atom(10.75, 0.75, 1.25), Atom(10.75, 0.25, 1.75), Atom(10.75, 0.75, 2.25), Atom(10.75, 0.25, 2.75), Atom(10.75, 0.75, 3.25), Atom(10.75, 0.25, 3.75), Atom(10.75, 0.75, 4.25), Atom(10.75, 0.25, 4.75), Atom(10.75, 0.75, 5.25), Atom(10.75, 0.25, 5.75), Atom(10.75, 0.75, 6.25), Atom(10.75, 0.25, 6.75), Atom(11, 0, 0), Atom(11, 0.5, 0.5), Atom(11, 0, 1), Atom(11, 0.5, 1.5), Atom(11, 0, 2), Atom(11, 0.5, 2.5), Atom(11, 0, 3), Atom(11, 0.5, 3.5), Atom(11, 0, 4), Atom(11, 0.5, 4.5), Atom(11, 0, 5), Atom(11, 0.5, 5.5), Atom(11, 0, 6), Atom(11, 0.5, 6.5), Atom(11.25, 0.25, 0.25), Atom(11.25, 0.75, 0.75), Atom(11.25, 0.25, 1.25), Atom(11.25, 0.75, 1.75), Atom(11.25, 0.25, 2.25), Atom(11.25, 0.75, 2.75), Atom(11.25, 0.25, 3.25), Atom(11.25, 0.75, 3.75), Atom(11.25, 0.25, 4.25), Atom(11.25, 0.75, 4.75), Atom(11.25, 0.25, 5.25), Atom(11.25, 0.75, 5.75), Atom(11.25, 0.25, 6.25), Atom(11.25, 0.75, 6.75), Atom(11.5, 0.5, 0), Atom(11.5, 0, 0.5), Atom(11.5, 0.5, 1), Atom(11.5, 0, 1.5), Atom(11.5, 0.5, 2), Atom(11.5, 0, 2.5), Atom(11.5, 0.5, 3), Atom(11.5, 0, 3.5), Atom(11.5, 0.5, 4), Atom(11.5, 0, 4.5), Atom(11.5, 0.5, 5), Atom(11.5, 0, 5.5), Atom(11.5, 0.5, 6), Atom(11.5, 0, 6.5), Atom(11.75, 0.75, 0.25), Atom(11.75, 0.25, 0.75), Atom(11.75, 0.75, 1.25), Atom(11.75, 0.25, 1.75), Atom(11.75, 0.75, 2.25), Atom(11.75, 0.25, 2.75), Atom(11.75, 0.75, 3.25), Atom(11.75, 0.25, 3.75), Atom(11.75, 0.75, 4.25), Atom(11.75, 0.25, 4.75), Atom(11.75, 0.75, 5.25), Atom(11.75, 0.25, 5.75), Atom(11.75, 0.75, 6.25), Atom(11.75, 0.25, 6.75), Atom(12, 0, 0), Atom(12, 0.5, 0.5), Atom(12, 0, 1), Atom(12, 0.5, 1.5), Atom(12, 0, 2), Atom(12, 0.5, 2.5), Atom(12, 0, 3), Atom(12, 0.5, 3.5), Atom(12, 0, 4), Atom(12, 0.5, 4.5), Atom(12, 0, 5), Atom(12, 0.5, 5.5), Atom(12, 0, 6), Atom(12, 0.5, 6.5), Atom(12.25, 0.25, 0.25), Atom(12.25, 0.75, 0.75), Atom(12.25, 0.25, 1.25), Atom(12.25, 0.75, 1.75), Atom(12.25, 0.25, 2.25), Atom(12.25, 0.75, 2.75), Atom(12.25, 0.25, 3.25), Atom(12.25, 0.75, 3.75), Atom(12.25, 0.25, 4.25), Atom(12.25, 0.75, 4.75), Atom(12.25, 0.25, 5.25), Atom(12.25, 0.75, 5.75), Atom(12.25, 0.25, 6.25), Atom(12.25, 0.75, 6.75), Atom(12.5, 0.5, 0), Atom(12.5, 0, 0.5), Atom(12.5, 0.5, 1), Atom(12.5, 0, 1.5), Atom(12.5, 0.5, 2), Atom(12.5, 0, 2.5), Atom(12.5, 0.5, 3), Atom(12.5, 0, 3.5), Atom(12.5, 0.5, 4), Atom(12.5, 0, 4.5), Atom(12.5, 0.5, 5), Atom(12.5, 0, 5.5), Atom(12.5, 0.5, 6), Atom(12.5, 0, 6.5), Atom(12.75, 0.75, 0.25), Atom(12.75, 0.25, 0.75), Atom(12.75, 0.75, 1.25), Atom(12.75, 0.25, 1.75), Atom(12.75, 0.75, 2.25), Atom(12.75, 0.25, 2.75), Atom(12.75, 0.75, 3.25), Atom(12.75, 0.25, 3.75), Atom(12.75, 0.75, 4.25), Atom(12.75, 0.25, 4.75), Atom(12.75, 0.75, 5.25), Atom(12.75, 0.25, 5.75), Atom(12.75, 0.75, 6.25), Atom(12.75, 0.25, 6.75), Atom(13, 0, 0), Atom(13, 0.5, 0.5), Atom(13, 0, 1), Atom(13, 0.5, 1.5), Atom(13, 0, 2), Atom(13, 0.5, 2.5), Atom(13, 0, 3), Atom(13, 0.5, 3.5), Atom(13, 0, 4), Atom(13, 0.5, 4.5), Atom(13, 0, 5), Atom(13, 0.5, 5.5), Atom(13, 0, 6), Atom(13, 0.5, 6.5), Atom(13.25, 0.25, 0.25), Atom(13.25, 0.75, 0.75), Atom(13.25, 0.25, 1.25), Atom(13.25, 0.75, 1.75), Atom(13.25, 0.25, 2.25), Atom(13.25, 0.75, 2.75), Atom(13.25, 0.25, 3.25), Atom(13.25, 0.75, 3.75), Atom(13.25, 0.25, 4.25), Atom(13.25, 0.75, 4.75), Atom(13.25, 0.25, 5.25), Atom(13.25, 0.75, 5.75), Atom(13.25, 0.25, 6.25), Atom(13.25, 0.75, 6.75), Atom(13.5, 0.5, 0), Atom(13.5, 0, 0.5), Atom(13.5, 0.5, 1), Atom(13.5, 0, 1.5), Atom(13.5, 0.5, 2), Atom(13.5, 0, 2.5), Atom(13.5, 0.5, 3), Atom(13.5, 0, 3.5), Atom(13.5, 0.5, 4), Atom(13.5, 0, 4.5), Atom(13.5, 0.5, 5), Atom(13.5, 0, 5.5), Atom(13.5, 0.5, 6), Atom(13.5, 0, 6.5), Atom(13.75, 0.75, 0.25), Atom(13.75, 0.25, 0.75), Atom(13.75, 0.75, 1.25), Atom(13.75, 0.25, 1.75), Atom(13.75, 0.75, 2.25), Atom(13.75, 0.25, 2.75), Atom(13.75, 0.75, 3.25), Atom(13.75, 0.25, 3.75), Atom(13.75, 0.75, 4.25), Atom(13.75, 0.25, 4.75), Atom(13.75, 0.75, 5.25), Atom(13.75, 0.25, 5.75), Atom(13.75, 0.75, 6.25), Atom(13.75, 0.25, 6.75), Atom(14, 0, 0), Atom(14, 0.5, 0.5), Atom(14, 0, 1), Atom(14, 0.5, 1.5), Atom(14, 0, 2), Atom(14, 0.5, 2.5), Atom(14, 0, 3), Atom(14, 0.5, 3.5), Atom(14, 0, 4), Atom(14, 0.5, 4.5), Atom(14, 0, 5), Atom(14, 0.5, 5.5), Atom(14, 0, 6), Atom(14, 0.5, 6.5), Atom(14.25, 0.25, 0.25), Atom(14.25, 0.75, 0.75), Atom(14.25, 0.25, 1.25), Atom(14.25, 0.75, 1.75), Atom(14.25, 0.25, 2.25), Atom(14.25, 0.75, 2.75), Atom(14.25, 0.25, 3.25), Atom(14.25, 0.75, 3.75), Atom(14.25, 0.25, 4.25), Atom(14.25, 0.75, 4.75), Atom(14.25, 0.25, 5.25), Atom(14.25, 0.75, 5.75), Atom(14.25, 0.25, 6.25), Atom(14.25, 0.75, 6.75), Atom(14.5, 0.5, 0), Atom(14.5, 0, 0.5), Atom(14.5, 0.5, 1), Atom(14.5, 0, 1.5), Atom(14.5, 0.5, 2), Atom(14.5, 0, 2.5), Atom(14.5, 0.5, 3), Atom(14.5, 0, 3.5), Atom(14.5, 0.5, 4), Atom(14.5, 0, 4.5), Atom(14.5, 0.5, 5), Atom(14.5, 0, 5.5), Atom(14.5, 0.5, 6), Atom(14.5, 0, 6.5), Atom(14.75, 0.75, 0.25), Atom(14.75, 0.25, 0.75), Atom(14.75, 0.75, 1.25), Atom(14.75, 0.25, 1.75), Atom(14.75, 0.75, 2.25), Atom(14.75, 0.25, 2.75), Atom(14.75, 0.75, 3.25), Atom(14.75, 0.25, 3.75), Atom(14.75, 0.75, 4.25), Atom(14.75, 0.25, 4.75), Atom(14.75, 0.75, 5.25), Atom(14.75, 0.25, 5.75), Atom(14.75, 0.75, 6.25), Atom(14.75, 0.25, 6.75), Atom(15, 0, 0), Atom(15, 0.5, 0.5), Atom(15, 0, 1), Atom(15, 0.5, 1.5), Atom(15, 0, 2), Atom(15, 0.5, 2.5), Atom(15, 0, 3), Atom(15, 0.5, 3.5), Atom(15, 0, 4), Atom(15, 0.5, 4.5), Atom(15, 0, 5), Atom(15, 0.5, 5.5), Atom(15, 0, 6), Atom(15, 0.5, 6.5), Atom(15.25, 0.25, 0.25), Atom(15.25, 0.75, 0.75), Atom(15.25, 0.25, 1.25), Atom(15.25, 0.75, 1.75), Atom(15.25, 0.25, 2.25), Atom(15.25, 0.75, 2.75), Atom(15.25, 0.25, 3.25), Atom(15.25, 0.75, 3.75), Atom(15.25, 0.25, 4.25), Atom(15.25, 0.75, 4.75), Atom(15.25, 0.25, 5.25), Atom(15.25, 0.75, 5.75), Atom(15.25, 0.25, 6.25), Atom(15.25, 0.75, 6.75), Atom(15.5, 0.5, 0), Atom(15.5, 0, 0.5), Atom(15.5, 0.5, 1), Atom(15.5, 0, 1.5), Atom(15.5, 0.5, 2), Atom(15.5, 0, 2.5), Atom(15.5, 0.5, 3), Atom(15.5, 0, 3.5), Atom(15.5, 0.5, 4), Atom(15.5, 0, 4.5), Atom(15.5, 0.5, 5), Atom(15.5, 0, 5.5), Atom(15.5, 0.5, 6), Atom(15.5, 0, 6.5), Atom(15.75, 0.75, 0.25), Atom(15.75, 0.25, 0.75), Atom(15.75, 0.75, 1.25), Atom(15.75, 0.25, 1.75), Atom(15.75, 0.75, 2.25), Atom(15.75, 0.25, 2.75), Atom(15.75, 0.75, 3.25), Atom(15.75, 0.25, 3.75), Atom(15.75, 0.75, 4.25), Atom(15.75, 0.25, 4.75), Atom(15.75, 0.75, 5.25), Atom(15.75, 0.25, 5.75), Atom(15.75, 0.75, 6.25), Atom(15.75, 0.25, 6.75), Atom(16, 0, 0), Atom(16, 0.5, 0.5), Atom(16, 0, 1), Atom(16, 0.5, 1.5), Atom(16, 0, 2), Atom(16, 0.5, 2.5), Atom(16, 0, 3), Atom(16, 0.5, 3.5), Atom(16, 0, 4), Atom(16, 0.5, 4.5), Atom(16, 0, 5), Atom(16, 0.5, 5.5), Atom(16, 0, 6), Atom(16, 0.5, 6.5), Atom(16.25, 0.25, 0.25), Atom(16.25, 0.75, 0.75), Atom(16.25, 0.25, 1.25), Atom(16.25, 0.75, 1.75), Atom(16.25, 0.25, 2.25), Atom(16.25, 0.75, 2.75), Atom(16.25, 0.25, 3.25), Atom(16.25, 0.75, 3.75), Atom(16.25, 0.25, 4.25), Atom(16.25, 0.75, 4.75), Atom(16.25, 0.25, 5.25), Atom(16.25, 0.75, 5.75), Atom(16.25, 0.25, 6.25), Atom(16.25, 0.75, 6.75), Atom(16.5, 0.5, 0), Atom(16.5, 0, 0.5), Atom(16.5, 0.5, 1), Atom(16.5, 0, 1.5), Atom(16.5, 0.5, 2), Atom(16.5, 0, 2.5), Atom(16.5, 0.5, 3), Atom(16.5, 0, 3.5), Atom(16.5, 0.5, 4), Atom(16.5, 0, 4.5), Atom(16.5, 0.5, 5), Atom(16.5, 0, 5.5), Atom(16.5, 0.5, 6), Atom(16.5, 0, 6.5), Atom(16.75, 0.75, 0.25), Atom(16.75, 0.25, 0.75), Atom(16.75, 0.75, 1.25), Atom(16.75, 0.25, 1.75), Atom(16.75, 0.75, 2.25), Atom(16.75, 0.25, 2.75), Atom(16.75, 0.75, 3.25), Atom(16.75, 0.25, 3.75), Atom(16.75, 0.75, 4.25), Atom(16.75, 0.25, 4.75), Atom(16.75, 0.75, 5.25), Atom(16.75, 0.25, 5.75), Atom(16.75, 0.75, 6.25), Atom(16.75, 0.25, 6.75)]\n"
     ]
    }
   ],
   "source": [
    "print(ham.unitCell.ATOM_POSITIONS)"
   ]
  },
  {
   "cell_type": "code",
   "execution_count": 3,
   "id": "71be4dab",
   "metadata": {},
   "outputs": [],
   "source": [
    "G_R_list, _, _, _, _ = gf.sparse_rgf_G_R(0.1, 0.1)"
   ]
  },
  {
   "cell_type": "code",
   "execution_count": 6,
   "id": "7354aff8",
   "metadata": {},
   "outputs": [
    {
     "data": {
      "text/plain": [
       "[<Compressed Sparse Column sparse matrix of dtype 'complex128'\n",
       " \twith 19600 stored elements and shape (140, 140)>,\n",
       " <Compressed Sparse Column sparse matrix of dtype 'complex128'\n",
       " \twith 19600 stored elements and shape (140, 140)>,\n",
       " <Compressed Sparse Column sparse matrix of dtype 'complex128'\n",
       " \twith 19600 stored elements and shape (140, 140)>,\n",
       " <Compressed Sparse Column sparse matrix of dtype 'complex128'\n",
       " \twith 19600 stored elements and shape (140, 140)>,\n",
       " <Compressed Sparse Column sparse matrix of dtype 'complex128'\n",
       " \twith 19600 stored elements and shape (140, 140)>,\n",
       " <Compressed Sparse Column sparse matrix of dtype 'complex128'\n",
       " \twith 19600 stored elements and shape (140, 140)>,\n",
       " <Compressed Sparse Column sparse matrix of dtype 'complex128'\n",
       " \twith 19600 stored elements and shape (140, 140)>,\n",
       " <Compressed Sparse Column sparse matrix of dtype 'complex128'\n",
       " \twith 19600 stored elements and shape (140, 140)>,\n",
       " <Compressed Sparse Column sparse matrix of dtype 'complex128'\n",
       " \twith 19600 stored elements and shape (140, 140)>,\n",
       " <Compressed Sparse Column sparse matrix of dtype 'complex128'\n",
       " \twith 19600 stored elements and shape (140, 140)>,\n",
       " <Compressed Sparse Column sparse matrix of dtype 'complex128'\n",
       " \twith 19600 stored elements and shape (140, 140)>,\n",
       " <Compressed Sparse Column sparse matrix of dtype 'complex128'\n",
       " \twith 19600 stored elements and shape (140, 140)>,\n",
       " <Compressed Sparse Column sparse matrix of dtype 'complex128'\n",
       " \twith 19600 stored elements and shape (140, 140)>,\n",
       " <Compressed Sparse Column sparse matrix of dtype 'complex128'\n",
       " \twith 19600 stored elements and shape (140, 140)>,\n",
       " <Compressed Sparse Column sparse matrix of dtype 'complex128'\n",
       " \twith 19600 stored elements and shape (140, 140)>,\n",
       " <Compressed Sparse Column sparse matrix of dtype 'complex128'\n",
       " \twith 19600 stored elements and shape (140, 140)>,\n",
       " <Compressed Sparse Column sparse matrix of dtype 'complex128'\n",
       " \twith 19600 stored elements and shape (140, 140)>,\n",
       " <Compressed Sparse Column sparse matrix of dtype 'complex128'\n",
       " \twith 19600 stored elements and shape (140, 140)>,\n",
       " <Compressed Sparse Column sparse matrix of dtype 'complex128'\n",
       " \twith 19600 stored elements and shape (140, 140)>,\n",
       " <Compressed Sparse Column sparse matrix of dtype 'complex128'\n",
       " \twith 19600 stored elements and shape (140, 140)>,\n",
       " <Compressed Sparse Column sparse matrix of dtype 'complex128'\n",
       " \twith 19600 stored elements and shape (140, 140)>,\n",
       " <Compressed Sparse Column sparse matrix of dtype 'complex128'\n",
       " \twith 19600 stored elements and shape (140, 140)>,\n",
       " <Compressed Sparse Column sparse matrix of dtype 'complex128'\n",
       " \twith 19600 stored elements and shape (140, 140)>,\n",
       " <Compressed Sparse Column sparse matrix of dtype 'complex128'\n",
       " \twith 19600 stored elements and shape (140, 140)>,\n",
       " <Compressed Sparse Column sparse matrix of dtype 'complex128'\n",
       " \twith 19600 stored elements and shape (140, 140)>,\n",
       " <Compressed Sparse Column sparse matrix of dtype 'complex128'\n",
       " \twith 19600 stored elements and shape (140, 140)>,\n",
       " <Compressed Sparse Column sparse matrix of dtype 'complex128'\n",
       " \twith 19600 stored elements and shape (140, 140)>,\n",
       " <Compressed Sparse Column sparse matrix of dtype 'complex128'\n",
       " \twith 19600 stored elements and shape (140, 140)>,\n",
       " <Compressed Sparse Column sparse matrix of dtype 'complex128'\n",
       " \twith 19600 stored elements and shape (140, 140)>,\n",
       " <Compressed Sparse Column sparse matrix of dtype 'complex128'\n",
       " \twith 19600 stored elements and shape (140, 140)>,\n",
       " <Compressed Sparse Column sparse matrix of dtype 'complex128'\n",
       " \twith 19600 stored elements and shape (140, 140)>,\n",
       " <Compressed Sparse Column sparse matrix of dtype 'complex128'\n",
       " \twith 19600 stored elements and shape (140, 140)>,\n",
       " <Compressed Sparse Column sparse matrix of dtype 'complex128'\n",
       " \twith 19600 stored elements and shape (140, 140)>,\n",
       " <Compressed Sparse Column sparse matrix of dtype 'complex128'\n",
       " \twith 19600 stored elements and shape (140, 140)>,\n",
       " <Compressed Sparse Column sparse matrix of dtype 'complex128'\n",
       " \twith 19600 stored elements and shape (140, 140)>,\n",
       " <Compressed Sparse Column sparse matrix of dtype 'complex128'\n",
       " \twith 19600 stored elements and shape (140, 140)>,\n",
       " <Compressed Sparse Column sparse matrix of dtype 'complex128'\n",
       " \twith 19600 stored elements and shape (140, 140)>,\n",
       " <Compressed Sparse Column sparse matrix of dtype 'complex128'\n",
       " \twith 19600 stored elements and shape (140, 140)>,\n",
       " <Compressed Sparse Column sparse matrix of dtype 'complex128'\n",
       " \twith 19600 stored elements and shape (140, 140)>,\n",
       " <Compressed Sparse Column sparse matrix of dtype 'complex128'\n",
       " \twith 19600 stored elements and shape (140, 140)>,\n",
       " <Compressed Sparse Column sparse matrix of dtype 'complex128'\n",
       " \twith 19600 stored elements and shape (140, 140)>,\n",
       " <Compressed Sparse Column sparse matrix of dtype 'complex128'\n",
       " \twith 19600 stored elements and shape (140, 140)>,\n",
       " <Compressed Sparse Column sparse matrix of dtype 'complex128'\n",
       " \twith 19600 stored elements and shape (140, 140)>,\n",
       " <Compressed Sparse Column sparse matrix of dtype 'complex128'\n",
       " \twith 19600 stored elements and shape (140, 140)>,\n",
       " <Compressed Sparse Column sparse matrix of dtype 'complex128'\n",
       " \twith 19600 stored elements and shape (140, 140)>,\n",
       " <Compressed Sparse Column sparse matrix of dtype 'complex128'\n",
       " \twith 19600 stored elements and shape (140, 140)>,\n",
       " <Compressed Sparse Column sparse matrix of dtype 'complex128'\n",
       " \twith 19600 stored elements and shape (140, 140)>,\n",
       " <Compressed Sparse Column sparse matrix of dtype 'complex128'\n",
       " \twith 19600 stored elements and shape (140, 140)>,\n",
       " <Compressed Sparse Column sparse matrix of dtype 'complex128'\n",
       " \twith 19600 stored elements and shape (140, 140)>,\n",
       " <Compressed Sparse Column sparse matrix of dtype 'complex128'\n",
       " \twith 19600 stored elements and shape (140, 140)>,\n",
       " <Compressed Sparse Column sparse matrix of dtype 'complex128'\n",
       " \twith 19600 stored elements and shape (140, 140)>,\n",
       " <Compressed Sparse Column sparse matrix of dtype 'complex128'\n",
       " \twith 19600 stored elements and shape (140, 140)>,\n",
       " <Compressed Sparse Column sparse matrix of dtype 'complex128'\n",
       " \twith 19600 stored elements and shape (140, 140)>,\n",
       " <Compressed Sparse Column sparse matrix of dtype 'complex128'\n",
       " \twith 19600 stored elements and shape (140, 140)>,\n",
       " <Compressed Sparse Column sparse matrix of dtype 'complex128'\n",
       " \twith 19600 stored elements and shape (140, 140)>,\n",
       " <Compressed Sparse Column sparse matrix of dtype 'complex128'\n",
       " \twith 19600 stored elements and shape (140, 140)>,\n",
       " <Compressed Sparse Column sparse matrix of dtype 'complex128'\n",
       " \twith 19600 stored elements and shape (140, 140)>,\n",
       " <Compressed Sparse Column sparse matrix of dtype 'complex128'\n",
       " \twith 19600 stored elements and shape (140, 140)>,\n",
       " <Compressed Sparse Column sparse matrix of dtype 'complex128'\n",
       " \twith 19600 stored elements and shape (140, 140)>,\n",
       " <Compressed Sparse Column sparse matrix of dtype 'complex128'\n",
       " \twith 19600 stored elements and shape (140, 140)>,\n",
       " <Compressed Sparse Column sparse matrix of dtype 'complex128'\n",
       " \twith 19600 stored elements and shape (140, 140)>,\n",
       " <Compressed Sparse Column sparse matrix of dtype 'complex128'\n",
       " \twith 19600 stored elements and shape (140, 140)>,\n",
       " <Compressed Sparse Column sparse matrix of dtype 'complex128'\n",
       " \twith 19600 stored elements and shape (140, 140)>,\n",
       " <Compressed Sparse Column sparse matrix of dtype 'complex128'\n",
       " \twith 19600 stored elements and shape (140, 140)>,\n",
       " <Compressed Sparse Column sparse matrix of dtype 'complex128'\n",
       " \twith 19600 stored elements and shape (140, 140)>,\n",
       " <Compressed Sparse Column sparse matrix of dtype 'complex128'\n",
       " \twith 19600 stored elements and shape (140, 140)>,\n",
       " <Compressed Sparse Column sparse matrix of dtype 'complex128'\n",
       " \twith 19600 stored elements and shape (140, 140)>,\n",
       " <Compressed Sparse Column sparse matrix of dtype 'complex128'\n",
       " \twith 19600 stored elements and shape (140, 140)>]"
      ]
     },
     "execution_count": 6,
     "metadata": {},
     "output_type": "execute_result"
    }
   ],
   "source": [
    "G_R_list"
   ]
  },
  {
   "cell_type": "code",
   "execution_count": 4,
   "id": "f659c8fc",
   "metadata": {},
   "outputs": [
    {
     "data": {
      "text/plain": [
       "array([[-4.24081561+12.01277241j, -3.093276   +6.40853185j,\n",
       "        -4.93841164-14.37833546j, ...,  0.40950163 -0.82985162j,\n",
       "         1.80385012 -3.77578518j,  1.60908384 -8.91348787j],\n",
       "       [-0.87584936+12.67344316j, -2.22562263 +6.86070032j,\n",
       "        -5.73957339-15.38091501j, ...,  0.13723727 -1.03350802j,\n",
       "         1.30441544 -3.96700617j, -0.12999812 -9.42804849j],\n",
       "       [ 3.87859129+10.57766821j,  1.63422628 +5.86655389j,\n",
       "        -9.08531141-12.93987844j, ...,  0.12400863 -1.23423591j,\n",
       "         0.41704455 -3.08657622j, -2.04816137 -8.0497393j ],\n",
       "       ...,\n",
       "       [-0.70214202 -0.11658832j, -0.46638535 -0.0712991j ,\n",
       "         0.34938775 -0.15983731j, ..., -1.10812078 -0.09091346j,\n",
       "         0.72086045 +0.22443978j, -0.53327026 +0.66182993j],\n",
       "       [ 0.46137096 +0.04071113j,  0.31898938 +0.01912643j,\n",
       "        -0.19127259 +0.14034258j, ...,  0.70373785 +0.14851621j,\n",
       "        -0.7064808  -0.17611729j, -0.02788093 -0.51059256j],\n",
       "       [ 0.38098695 +0.08990997j,  0.24818583 -0.03095915j,\n",
       "        -0.16503559 -0.29193657j, ...,  0.33030865 -0.11263183j,\n",
       "        -0.25438204 -0.34658521j, -5.48688237 -1.25667537j]])"
      ]
     },
     "execution_count": 4,
     "metadata": {},
     "output_type": "execute_result"
    }
   ],
   "source": [
    "sigmaL, sigmaR = gf.self_energy(0.1,0.1)\n",
    "sigmaR[-140:,-140:]"
   ]
  },
  {
   "cell_type": "code",
   "execution_count": null,
   "id": "a564963d",
   "metadata": {},
   "outputs": [],
   "source": []
  },
  {
   "cell_type": "code",
   "execution_count": 4,
   "id": "6c1ec88f",
   "metadata": {},
   "outputs": [],
   "source": [
    "device = Device()\n",
    "ham = Hamiltonian(device)\n",
    "lse = LeadSelfEnergy(device, ham)\n",
    "gf = GreensFunction(device, ham)\n",
    "\n",
    "G_R, gamma1, gamma2, sigmaL, sigmaR = gf.sparse_rgf_G_R(0.1, 0.1)\n",
    "\n"
   ]
  },
  {
   "cell_type": "code",
   "execution_count": 6,
   "id": "f21de958",
   "metadata": {},
   "outputs": [
    {
     "data": {
      "text/plain": [
       "array([[ 1.34396467e+01-5.09225615e+00j, -2.09550901e-16-3.92157148e-17j,\n",
       "         1.59942177e-15-3.49036202e-17j, ...,\n",
       "         0.00000000e+00+0.00000000e+00j,  0.00000000e+00+0.00000000e+00j,\n",
       "         0.00000000e+00+0.00000000e+00j],\n",
       "       [-2.09550901e-16-3.92157148e-17j,  1.00600013e+01-8.74076972e-02j,\n",
       "        -1.00996263e+01-8.74076962e-02j, ...,\n",
       "         0.00000000e+00+0.00000000e+00j,  0.00000000e+00+0.00000000e+00j,\n",
       "         0.00000000e+00+0.00000000e+00j],\n",
       "       [ 1.59942177e-15-3.49036202e-17j, -1.00996263e+01-8.74076962e-02j,\n",
       "         1.00600013e+01-8.74076972e-02j, ...,\n",
       "         0.00000000e+00+0.00000000e+00j,  0.00000000e+00+0.00000000e+00j,\n",
       "         0.00000000e+00+0.00000000e+00j],\n",
       "       ...,\n",
       "       [ 0.00000000e+00+0.00000000e+00j,  0.00000000e+00+0.00000000e+00j,\n",
       "         0.00000000e+00+0.00000000e+00j, ...,\n",
       "        -4.81975000e+00-8.46332501e+00j,  0.00000000e+00+0.00000000e+00j,\n",
       "         0.00000000e+00+0.00000000e+00j],\n",
       "       [ 0.00000000e+00+0.00000000e+00j,  0.00000000e+00+0.00000000e+00j,\n",
       "         0.00000000e+00+0.00000000e+00j, ...,\n",
       "         0.00000000e+00+0.00000000e+00j, -4.81975000e+00-8.46332501e+00j,\n",
       "         0.00000000e+00+0.00000000e+00j],\n",
       "       [ 0.00000000e+00+0.00000000e+00j,  0.00000000e+00+0.00000000e+00j,\n",
       "         0.00000000e+00+0.00000000e+00j, ...,\n",
       "         0.00000000e+00+0.00000000e+00j,  0.00000000e+00+0.00000000e+00j,\n",
       "        -7.48325000e+00-1.30767118e+01j]])"
      ]
     },
     "execution_count": 6,
     "metadata": {},
     "output_type": "execute_result"
    }
   ],
   "source": [
    "sigmaL.toarray()"
   ]
  },
  {
   "cell_type": "code",
   "execution_count": null,
   "id": "51180023",
   "metadata": {},
   "outputs": [],
   "source": [
    "sigma = lse.iterative_self_energy()"
   ]
  },
  {
   "cell_type": "code",
   "execution_count": null,
   "id": "d4866c87",
   "metadata": {},
   "outputs": [],
   "source": [
    "from poisson import PoissonSolver\n",
    "\n",
    "poissonSolver = PoissonSolver(device)"
   ]
  },
  {
   "cell_type": "code",
   "execution_count": null,
   "id": "606ee238",
   "metadata": {},
   "outputs": [],
   "source": [
    "poissonSolver.solve_poisson_equation()\n",
    "\n"
   ]
  },
  {
   "cell_type": "code",
   "execution_count": null,
   "id": "0daa1b9d",
   "metadata": {},
   "outputs": [],
   "source": [
    "device = Device()\n",
    "ham = Hamiltonian(device)\n",
    "rgf = GreensFunction(device, ham)\n",
    "\n",
    "G_R, gamma1, gamma2, sigmaL, sigmaR= rgf.sparse_rgf_G_R(E=0.1, ky = 0.1)\n"
   ]
  },
  {
   "cell_type": "code",
   "execution_count": null,
   "id": "fc06b7ef",
   "metadata": {},
   "outputs": [],
   "source": [
    "print(G_R[0].shape)"
   ]
  },
  {
   "cell_type": "code",
   "execution_count": null,
   "id": "5c55d0f4",
   "metadata": {},
   "outputs": [],
   "source": [
    "time_start = time.time()\n",
    "dagger = lambda A: np.conjugate(A.T)\n",
    "side = \"left\"\n",
    "Hpp_matrices = [None] * lead.P\n",
    "HpP_matrices = [None] * lead.P\n",
    "hPP,hPP1 = lead.get_layer_hamiltonian(lead.P, side)\n",
    "\n",
    "HPP = Helper_functions.sparse_inverse(spa.csc_matrix(lead.E * np.eye(hPP.shape[0]) - hPP))\n",
    "Hpp_matrices[-1], HpP_matrices[-1] = HPP, HPP\n",
    "for i in range(lead.P - 1, 0, -1):\n",
    "    \n",
    "    hpp, hpp1 = lead.get_layer_hamiltonian(i, side)\n",
    "    Hpp = Helper_functions.sparse_inverse(spa.csc_matrix(lead.E * np.eye(hPP.shape[0]) - \\\n",
    "        hpp - hpp1 @ Hpp_matrices[i] @ dagger(hpp1)))\n",
    "    Hpp_matrices[i - 1] = Hpp\n",
    "    HpP = Hpp_matrices[i - 1] @ hpp1 @ HpP_matrices[i]\n",
    "    HpP_matrices[i - 1] = HpP\n",
    "    \n",
    "C22 = Hpp_matrices[1]\n",
    "C2P = HpP_matrices[1]\n",
    "C_matrices = [None] * 4\n",
    "C_matrices[1] = C22\n",
    "for p in range(3, lead.P + 1):\n",
    "    hpp, hpp1 = lead.get_layer_hamiltonian(i, side)\n",
    "    C_matrices[p - 1] = Hpp_matrices[p - 1] + Hpp_matrices[p -1] @ (hpp1 @ C_matrices[p -2] @ dagger(hpp1)) @ Hpp_matrices[p - 1] \n",
    "\n",
    "h11, h12 = lead.get_layer_hamiltonian(1, side)\n",
    "\n",
    "XIs = h11 + h12 @ C_matrices[1] @ dagger(h12)\n",
    "XI = XIs + dagger(hPP1) @ C_matrices[-1] @ hPP1\n",
    "PI = h12 @ C2P @ hPP1\n",
    "\n",
    "\n",
    "\n"
   ]
  },
  {
   "cell_type": "code",
   "execution_count": null,
   "id": "8ac3aca3",
   "metadata": {},
   "outputs": [],
   "source": [
    "XIs = spa.csc_matrix(XIs)\n",
    "XI = spa.csc_matrix(XI)\n",
    "PI = spa.csc_matrix(PI)\n",
    "I = np.eye(XI.shape[0], dtype=XI)\n",
    "Z = I * 0\n",
    "D = lead.E * I.copy() - XI\n",
    "T = -PI\n",
    "\n",
    "A = bmat([\n",
    "    [Z, I],\n",
    "    [-T.conj().T, -D]\n",
    "], format='csc')\n",
    "\n",
    "B = bmat([\n",
    "    [I, Z],\n",
    "    [Z, T]\n",
    "], format='csc')\n",
    "\n",
    "eigenvalues, eigenvectors = eigs(A, M=B, sigma=1.0, which='LM')\n",
    "\n",
    "\n",
    "\n",
    "\n",
    "def construct_U_plus_and_Lambda_plus(eigenvalues, eigenvectors, n_dim, epsilon=0.1):\n",
    "    abs_vals = np.abs(eigenvalues)\n",
    "    \n",
    "\n",
    "    is_propagating = np.isclose(abs_vals, 1.0)\n",
    "    is_evanescent = (abs_vals < 1.0) & (abs_vals > epsilon)\n",
    "    \n",
    "    selected_indices = np.where(is_propagating | is_evanescent)[0]\n",
    "    \n",
    "    if len(selected_indices) == 0:\n",
    "        return np.array([], dtype=complex), np.array([],dtype=complex)\n",
    "        \n",
    "    filtered_eigenvalues = eigenvalues[selected_indices]\n",
    "    filtered_eigenvectors = eigenvectors[:, selected_indices]\n",
    "\n",
    "    Lambda_plus = np.diag(filtered_eigenvalues)\n",
    "    U_plus = filtered_eigenvectors[:n_dim, :]\n",
    "\n",
    "    return U_plus, Lambda_plus\n",
    "\n",
    "U_plus, Lambda = construct_U_plus_and_Lambda_plus(eigenvalues, eigenvectors, T.shape[0], epsilon=0.1)\n",
    "\n",
    "U_pseudo = np.linalg.pinv(U_plus)\n",
    "F = U_plus @ Lambda @ U_pseudo\n",
    "\n",
    "Y = np.linalg.solve(lead.E * I - XIs.toarray() - PI.toarray() @ F, dagger(h12.toarray()))\n",
    "self_energy = h12 @ Y\n",
    "time_end = time.time()\n",
    "print(f\"time is: {time_end - time_start}\")"
   ]
  },
  {
   "cell_type": "code",
   "execution_count": null,
   "id": "fa0be79a",
   "metadata": {},
   "outputs": [],
   "source": [
    "print(self_energy)"
   ]
  },
  {
   "cell_type": "code",
   "execution_count": null,
   "id": "a5d07c5c",
   "metadata": {},
   "outputs": [],
   "source": [
    "H00,H10 = device.hamiltonian.get_H00_H01(ky=0.1, sparse=True)\n",
    "print(H00)"
   ]
  },
  {
   "cell_type": "code",
   "execution_count": null,
   "id": "ab1c35c2",
   "metadata": {},
   "outputs": [],
   "source": [
    "H00,H10 = device.hamiltonian.get_H00_H01(ky=0.1, sparse=False)\n",
    "print(H00)"
   ]
  },
  {
   "cell_type": "code",
   "execution_count": null,
   "id": "85ded7a6",
   "metadata": {},
   "outputs": [],
   "source": [
    "def surface_gf(Energy, H00, H10, tol=1e-6): \n",
    "    \"\"\" \n",
    "    This iteratively calculates the surface green's function for the lead based. \n",
    "    Although it is tested for 1D, it should be good for 2D surfaces. \n",
    "    \"\"\"\n",
    "\n",
    "    Energy = Energy\n",
    "    dagger = lambda A: np.conjugate(A.T)\n",
    "    \n",
    "    I = np.eye(H00.shape[0], dtype=complex)\n",
    "    H01 = dagger(H10)\n",
    "\n",
    "    epsilon_s = H00.copy()\n",
    "    epsilon = H00.copy()\n",
    "    alpha = H01.copy()\n",
    "    beta = dagger(H10).copy()\n",
    "    err = 1.0\n",
    "    first_time = True\n",
    "\n",
    "    while err > tol:\n",
    "        if first_time:\n",
    "            inv_E = Helper_functions.sparse_inverse(spa.csr_matrix(Energy * I) - spa.csr_matrix(epsilon))\n",
    "            first_time = False\n",
    "        else:\n",
    "\n",
    "            inv_E = np.linalg.solve(Energy * I - epsilon, I)\n",
    "    \n",
    "        epsilon_s_new = epsilon_s + alpha @ inv_E @ beta\n",
    "        epsilon_new = epsilon + beta @ inv_E @ alpha + alpha @ inv_E @ beta\n",
    "        alpha_new = alpha @ inv_E @ alpha\n",
    "        beta_new = beta @ inv_E @ beta\n",
    "\n",
    "        err = np.linalg.norm(alpha_new, ord='fro')\n",
    "\n",
    "        epsilon_s, epsilon, alpha, beta = epsilon_s_new, epsilon_new, alpha_new, beta_new\n",
    "\n",
    "    return  np.linalg.solve(Energy * I - epsilon_s, I)\n",
    "H00,H10 = device.hamiltonian.get_H00_H01(ky=0.1, sparse=True)\n",
    "\n",
    "\n",
    "surface_gf(0, H00, H10, tol=1e-3)"
   ]
  },
  {
   "cell_type": "code",
   "execution_count": null,
   "id": "2eda6d20",
   "metadata": {},
   "outputs": [],
   "source": [
    "def surface_gf(Energy, H00 : np.ndarray, H10: np.ndarray, tol=1e-6): \n",
    "    \"\"\" \n",
    "    This iteratively calculates the surface green's function for the lead based. \n",
    "    Although it is tested for 1D, it should be good for 2D surfaces. \n",
    "    \"\"\"\n",
    "    \n",
    "    Energy = Energy\n",
    "    dagger = lambda A: np.conjugate(A.T)\n",
    "    \n",
    "    I = np.eye(H00.shape[0], dtype=complex)\n",
    "    H01 = dagger(H10)\n",
    "\n",
    "    epsilon_s = H00.copy()\n",
    "    epsilon = H00.copy()\n",
    "    alpha = H01.copy()\n",
    "    beta = dagger(H10).copy()\n",
    "    err = 1.0\n",
    "\n",
    "    while err > tol:\n",
    "        inv_E = np.linalg.solve(Energy * I - epsilon, I)\n",
    "\n",
    "        epsilon_s_new = epsilon_s + alpha @ inv_E @ beta\n",
    "        epsilon_new = epsilon + beta @ inv_E @ alpha + alpha @ inv_E @ beta\n",
    "        alpha_new = alpha @ inv_E @ alpha\n",
    "        beta_new = beta @ inv_E @ beta\n",
    "\n",
    "        err = np.linalg.norm(alpha_new, ord='fro')\n",
    "\n",
    "        epsilon_s, epsilon, alpha, beta = epsilon_s_new, epsilon_new, alpha_new, beta_new\n",
    "\n",
    "    return  np.linalg.solve(Energy * I - epsilon_s, I)\n",
    "\n",
    "H00,H10 = device.hamiltonian.get_H00_H01(ky=0.1, sparse=False)\n",
    "\n",
    "surface_gf(0, H00, H10)"
   ]
  },
  {
   "cell_type": "code",
   "execution_count": null,
   "id": "6d552ef3",
   "metadata": {},
   "outputs": [],
   "source": [
    "from helper import Helper_functions\n",
    "\n",
    "H00,H10 = device.hamiltonian.get_H00_H01(ky=0.1, sparse=True)\n",
    "print(H00)\n",
    "Helper_functions.sparse_inverse(-H00)\n",
    "H00,H10 = device.hamiltonian.get_H00_H01(ky=0.1, sparse=False)\n",
    "print(H00)\n",
    "Helper_functions.sparse_inverse(-H00)"
   ]
  },
  {
   "cell_type": "code",
   "execution_count": null,
   "id": "a6fe2130",
   "metadata": {},
   "outputs": [],
   "source": [
    "H = device.hamiltonian.create_sparse_hamlitonian(0.1)"
   ]
  }
 ],
 "metadata": {
  "kernelspec": {
   "display_name": ".venv",
   "language": "python",
   "name": "python3"
  },
  "language_info": {
   "codemirror_mode": {
    "name": "ipython",
    "version": 3
   },
   "file_extension": ".py",
   "mimetype": "text/x-python",
   "name": "python",
   "nbconvert_exporter": "python",
   "pygments_lexer": "ipython3",
   "version": "3.11.5"
  }
 },
 "nbformat": 4,
 "nbformat_minor": 5
}
